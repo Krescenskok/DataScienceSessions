{
 "cells": [
  {
   "cell_type": "markdown",
   "metadata": {},
   "source": [
    "# Intro to Logistic Regression\n",
    "\n",
    "- Estimates the probability of an event occurring based on independent variables\n",
    "- Models a binary outcome (True/False, Yes/No)\n",
    "    - In this example, the outcome is either win or loss\n",
    "- Equation: $$ f(x) = {e^{b} \\over (1+e^{-x})} $$"
   ]
  },
  {
   "cell_type": "markdown",
   "metadata": {},
   "source": [
    "##### Prerequisite: \n",
    "- Download Anaconda (https://www.anaconda.com/download)\n",
    "- Set up Github account\n",
    "- Install Github (https://gitforwindows.org/)\n",
    "    - Use git version in terminal to check the version of Github that was downloaded\n",
    "- Clone repository (git clone https://github.com/Krescenskok/DataScienceSessions.git)\n",
    "- Useful git commands (https://git-scm.com/docs)"
   ]
  },
  {
   "cell_type": "markdown",
   "metadata": {},
   "source": [
    "### Import Packages"
   ]
  },
  {
   "cell_type": "code",
   "execution_count": 4,
   "metadata": {},
   "outputs": [],
   "source": [
    "import pandas as pd\n",
    "import numpy as np\n",
    "from sklearn.linear_model import LogisticRegression"
   ]
  },
  {
   "cell_type": "markdown",
   "metadata": {},
   "source": [
    "### Import Data"
   ]
  },
  {
   "cell_type": "markdown",
   "metadata": {},
   "source": [
    "### Data Cleaning\n",
    "- Missing values\n",
    "- Outliers\n",
    "- Duplicated Values"
   ]
  },
  {
   "cell_type": "markdown",
   "metadata": {},
   "source": [
    "### Data Visualization"
   ]
  },
  {
   "cell_type": "markdown",
   "metadata": {},
   "source": [
    "### Data Model\n",
    "- Predict Model\n",
    "- Check for the accuracy of the model"
   ]
  },
  {
   "cell_type": "markdown",
   "metadata": {},
   "source": []
  }
 ],
 "metadata": {
  "kernelspec": {
   "display_name": "base",
   "language": "python",
   "name": "python3"
  },
  "language_info": {
   "codemirror_mode": {
    "name": "ipython",
    "version": 3
   },
   "file_extension": ".py",
   "mimetype": "text/x-python",
   "name": "python",
   "nbconvert_exporter": "python",
   "pygments_lexer": "ipython3",
   "version": "3.11.5"
  },
  "orig_nbformat": 4
 },
 "nbformat": 4,
 "nbformat_minor": 2
}
