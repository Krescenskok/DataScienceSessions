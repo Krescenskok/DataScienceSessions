{
 "cells": [
  {
   "cell_type": "markdown",
   "metadata": {},
   "source": [
    "# Intro to Logistic Regression"
   ]
  },
  {
   "cell_type": "markdown",
   "metadata": {},
   "source": [
    "##### Prerequisite: \n",
    "- Download Anaconda (https://www.anaconda.com/download)\n",
    "- Set up Github account\n",
    "- Install Github (https://gitforwindows.org/)\n",
    "    - Use git version in terminal to check the version of Github that was downloaded\n",
    "- Clone repository (git clone https://github.com/Krescenskok/DataScienceSessions.git)"
   ]
  },
  {
   "cell_type": "markdown",
   "metadata": {},
   "source": [
    "### Import Data"
   ]
  },
  {
   "cell_type": "markdown",
   "metadata": {},
   "source": [
    "### Data Cleaning\n",
    "- Missing values\n",
    "- Outliers\n",
    "- Duplicated Values"
   ]
  },
  {
   "cell_type": "markdown",
   "metadata": {},
   "source": [
    "### Data Model\n",
    "- Predict Model\n",
    "- Check for the accuracy of the model"
   ]
  },
  {
   "cell_type": "markdown",
   "metadata": {},
   "source": []
  }
 ],
 "metadata": {
  "language_info": {
   "name": "python"
  },
  "orig_nbformat": 4
 },
 "nbformat": 4,
 "nbformat_minor": 2
}
