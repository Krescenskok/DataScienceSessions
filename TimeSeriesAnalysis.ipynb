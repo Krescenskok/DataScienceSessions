{
 "cells": [
  {
   "cell_type": "markdown",
   "id": "012a6fcb-9a0e-433b-9a4f-c836bdd09aed",
   "metadata": {
    "tags": []
   },
   "source": [
    "## Time Series Analysis"
   ]
  },
  {
   "cell_type": "markdown",
   "id": "b6ed7c8e-db5c-40d9-b44d-5ea12ae9e299",
   "metadata": {},
   "source": [
    "A sequence of data points that occur in equal time intervals over some period of time. \n",
    "\n",
    "**Dependencies:**\n",
    "- **Stationarity:** Statistical properties (mean, variance, autocorrelation) don't change over time.\n",
    "    - Ex: Weather temperatures is not stationary due to having seasonal patterns\n",
    "\n",
    "<br />\n",
    "\n",
    "- **Autocorrelation:** How correlated a time series is with itself over time\n",
    "    - **High Correlation:** Indicates that the data is related to previous days (weather temperatures)\n",
    "    - **Low Correlation:** Indicates that there is no relationship between data points\n",
    "    - **Negative Correlation:** Indicates a trend such as high stock prices followed by low stock prices (vice versa)\n",
    "    \n",
    "<img src=\"autocorrelation.jpg\" width=\"500\"/>\n"
   ]
  },
  {
   "cell_type": "markdown",
   "id": "59b7ee77-1484-4029-b6f0-d05720b22566",
   "metadata": {
    "tags": []
   },
   "source": [
    "\n",
    "- **Missingness:** The dataset should be free of missing data and should have no missing time interval"
   ]
  },
  {
   "cell_type": "markdown",
   "id": "5d6b2b41-7bda-4fc6-8ba0-878d91846de3",
   "metadata": {},
   "source": [
    "## Goal: \n",
    "- **Research Question:** Using 2 years' worth of data, can we forecast daily revenues for the company's next quarter?\n",
    "- To identify overall trends and seasonality looking at 2 years of historical daily revenues\n",
    "- Using the findings and trends, we want to forecast results for the next quarter using autoregressive integrated moving average modeling (ARIMA)"
   ]
  },
  {
   "cell_type": "markdown",
   "id": "617c7d67-7c42-42ad-8613-8e0608d15f5d",
   "metadata": {},
   "source": [
    "## Importing Data"
   ]
  },
  {
   "cell_type": "code",
   "execution_count": 12,
   "id": "b9ca5bb9-5d34-440e-a4c2-c7b28319c237",
   "metadata": {
    "tags": []
   },
   "outputs": [],
   "source": [
    "import pandas as pd\n"
   ]
  },
  {
   "cell_type": "code",
   "execution_count": 13,
   "id": "e83360f4-5c04-4998-81a4-dd9b246f8a6a",
   "metadata": {
    "tags": []
   },
   "outputs": [
    {
     "data": {
      "text/html": [
       "<div>\n",
       "<style scoped>\n",
       "    .dataframe tbody tr th:only-of-type {\n",
       "        vertical-align: middle;\n",
       "    }\n",
       "\n",
       "    .dataframe tbody tr th {\n",
       "        vertical-align: top;\n",
       "    }\n",
       "\n",
       "    .dataframe thead th {\n",
       "        text-align: right;\n",
       "    }\n",
       "</style>\n",
       "<table border=\"1\" class=\"dataframe\">\n",
       "  <thead>\n",
       "    <tr style=\"text-align: right;\">\n",
       "      <th></th>\n",
       "      <th>Day</th>\n",
       "      <th>Revenue</th>\n",
       "    </tr>\n",
       "  </thead>\n",
       "  <tbody>\n",
       "    <tr>\n",
       "      <th>0</th>\n",
       "      <td>1</td>\n",
       "      <td>0.000000</td>\n",
       "    </tr>\n",
       "    <tr>\n",
       "      <th>1</th>\n",
       "      <td>2</td>\n",
       "      <td>0.000793</td>\n",
       "    </tr>\n",
       "    <tr>\n",
       "      <th>2</th>\n",
       "      <td>3</td>\n",
       "      <td>0.825542</td>\n",
       "    </tr>\n",
       "    <tr>\n",
       "      <th>3</th>\n",
       "      <td>4</td>\n",
       "      <td>0.320332</td>\n",
       "    </tr>\n",
       "    <tr>\n",
       "      <th>4</th>\n",
       "      <td>5</td>\n",
       "      <td>1.082554</td>\n",
       "    </tr>\n",
       "  </tbody>\n",
       "</table>\n",
       "</div>"
      ],
      "text/plain": [
       "   Day   Revenue\n",
       "0    1  0.000000\n",
       "1    2  0.000793\n",
       "2    3  0.825542\n",
       "3    4  0.320332\n",
       "4    5  1.082554"
      ]
     },
     "execution_count": 13,
     "metadata": {},
     "output_type": "execute_result"
    }
   ],
   "source": [
    "#import data\n",
    "df = pd.read_csv('Datasets/teleco_time_series .csv')\n",
    "\n",
    "# Assume that Revenue is in millions\n",
    "df.head()"
   ]
  },
  {
   "cell_type": "code",
   "execution_count": 14,
   "id": "9edbe845-f13c-4952-9a28-7443ac69e354",
   "metadata": {
    "tags": []
   },
   "outputs": [
    {
     "data": {
      "text/html": [
       "<div>\n",
       "<style scoped>\n",
       "    .dataframe tbody tr th:only-of-type {\n",
       "        vertical-align: middle;\n",
       "    }\n",
       "\n",
       "    .dataframe tbody tr th {\n",
       "        vertical-align: top;\n",
       "    }\n",
       "\n",
       "    .dataframe thead th {\n",
       "        text-align: right;\n",
       "    }\n",
       "</style>\n",
       "<table border=\"1\" class=\"dataframe\">\n",
       "  <thead>\n",
       "    <tr style=\"text-align: right;\">\n",
       "      <th></th>\n",
       "      <th>Day</th>\n",
       "      <th>Revenue</th>\n",
       "    </tr>\n",
       "  </thead>\n",
       "  <tbody>\n",
       "    <tr>\n",
       "      <th>726</th>\n",
       "      <td>727</td>\n",
       "      <td>16.931559</td>\n",
       "    </tr>\n",
       "    <tr>\n",
       "      <th>727</th>\n",
       "      <td>728</td>\n",
       "      <td>17.490666</td>\n",
       "    </tr>\n",
       "    <tr>\n",
       "      <th>728</th>\n",
       "      <td>729</td>\n",
       "      <td>16.803638</td>\n",
       "    </tr>\n",
       "    <tr>\n",
       "      <th>729</th>\n",
       "      <td>730</td>\n",
       "      <td>16.194813</td>\n",
       "    </tr>\n",
       "    <tr>\n",
       "      <th>730</th>\n",
       "      <td>731</td>\n",
       "      <td>16.620798</td>\n",
       "    </tr>\n",
       "  </tbody>\n",
       "</table>\n",
       "</div>"
      ],
      "text/plain": [
       "     Day    Revenue\n",
       "726  727  16.931559\n",
       "727  728  17.490666\n",
       "728  729  16.803638\n",
       "729  730  16.194813\n",
       "730  731  16.620798"
      ]
     },
     "execution_count": 14,
     "metadata": {},
     "output_type": "execute_result"
    }
   ],
   "source": [
    "# Displays the last 5 rows in the dataset\n",
    "df.tail()"
   ]
  },
  {
   "cell_type": "markdown",
   "id": "2ff95931-cc85-4121-82a1-e51963cd89ae",
   "metadata": {},
   "source": [
    "##### Here, we can see that the dataset consists of 731 records and there are no null values"
   ]
  },
  {
   "cell_type": "code",
   "execution_count": 15,
   "id": "4098c69e-0740-44d2-b73a-ae6a9ac2e68c",
   "metadata": {
    "tags": []
   },
   "outputs": [
    {
     "name": "stdout",
     "output_type": "stream",
     "text": [
      "<class 'pandas.core.frame.DataFrame'>\n",
      "RangeIndex: 731 entries, 0 to 730\n",
      "Data columns (total 2 columns):\n",
      " #   Column   Non-Null Count  Dtype  \n",
      "---  ------   --------------  -----  \n",
      " 0   Day      731 non-null    int64  \n",
      " 1   Revenue  731 non-null    float64\n",
      "dtypes: float64(1), int64(1)\n",
      "memory usage: 11.6 KB\n"
     ]
    }
   ],
   "source": [
    "df.info()"
   ]
  },
  {
   "cell_type": "markdown",
   "id": "74a70deb-e970-474e-8473-1226777e707c",
   "metadata": {},
   "source": [
    "##### Looking at our timeseries plot, we can see that there is a positive autocorrelation and there is an upward trend, indicating that the data is also not stationary (the mean is changing over time)"
   ]
  },
  {
   "cell_type": "code",
   "execution_count": 16,
   "id": "dad0c663-952d-4cac-aa55-c8a75254993c",
   "metadata": {
    "tags": []
   },
   "outputs": [
    {
     "data": {
      "image/png": "[encoded data removed]",
      "text/plain": [
       "<Figure size 1000x500 with 1 Axes>"
      ]
     },
     "metadata": {},
     "output_type": "display_data"
    }
   ],
   "source": [
    "import matplotlib.pyplot as plt #plot timeseries\n",
    "\n",
    "plt.figure(figsize=(10,5))\n",
    "plt.plot(df.Revenue)\n",
    "plt.title('Revenue Chart')\n",
    "plt.xlabel('Day')\n",
    "plt.ylabel('Revenue in million dollars')\n",
    "plt.grid(True)\n",
    "plt.show()\n",
    "\n",
    "#Not autocorrelated\n",
    "#Not a random walk (random points everywhere)\n",
    "#Random ups and downs\n",
    "#Upward trend"
   ]
  },
  {
   "cell_type": "markdown",
   "id": "af992903-e14b-43fc-b6d3-a3965bae5ae2",
   "metadata": {},
   "source": [
    "## Identify if there are missing or duplicated days in the dataset"
   ]
  },
  {
   "cell_type": "code",
   "execution_count": 18,
   "id": "27e1c00c-b689-4ec7-b773-0fe8f6d57281",
   "metadata": {
    "tags": []
   },
   "outputs": [
    {
     "data": {
      "text/html": [
       "<div>\n",
       "<style scoped>\n",
       "    .dataframe tbody tr th:only-of-type {\n",
       "        vertical-align: middle;\n",
       "    }\n",
       "\n",
       "    .dataframe tbody tr th {\n",
       "        vertical-align: top;\n",
       "    }\n",
       "\n",
       "    .dataframe thead th {\n",
       "        text-align: right;\n",
       "    }\n",
       "</style>\n",
       "<table border=\"1\" class=\"dataframe\">\n",
       "  <thead>\n",
       "    <tr style=\"text-align: right;\">\n",
       "      <th></th>\n",
       "      <th>Revenue</th>\n",
       "    </tr>\n",
       "    <tr>\n",
       "      <th>Day</th>\n",
       "      <th></th>\n",
       "    </tr>\n",
       "  </thead>\n",
       "  <tbody>\n",
       "    <tr>\n",
       "      <th>1</th>\n",
       "      <td>0.000000</td>\n",
       "    </tr>\n",
       "    <tr>\n",
       "      <th>2</th>\n",
       "      <td>0.000793</td>\n",
       "    </tr>\n",
       "    <tr>\n",
       "      <th>3</th>\n",
       "      <td>0.825542</td>\n",
       "    </tr>\n",
       "    <tr>\n",
       "      <th>4</th>\n",
       "      <td>0.320332</td>\n",
       "    </tr>\n",
       "    <tr>\n",
       "      <th>5</th>\n",
       "      <td>1.082554</td>\n",
       "    </tr>\n",
       "  </tbody>\n",
       "</table>\n",
       "</div>"
      ],
      "text/plain": [
       "      Revenue\n",
       "Day          \n",
       "1    0.000000\n",
       "2    0.000793\n",
       "3    0.825542\n",
       "4    0.320332\n",
       "5    1.082554"
      ]
     },
     "execution_count": 18,
     "metadata": {},
     "output_type": "execute_result"
    }
   ],
   "source": [
    "#set the index to the day column\n",
    "df = df.set_index('Day')\n",
    "\n",
    "#confirm changed index\n",
    "df.head()"
   ]
  },
  {
   "cell_type": "markdown",
   "id": "32fdf1c8-7cd3-47b8-a91f-a00e70ea22d7",
   "metadata": {},
   "source": [
    "#### Create a set from 1-731 so we can use it to compare with our dataset\n",
    "- A set is the best data type since there can only be unique values in a set, so it will help identify if there are duplicated days"
   ]
  },
  {
   "cell_type": "code",
   "execution_count": 19,
   "id": "cadc2df7-e5b2-420f-bc6f-2ecc28dab098",
   "metadata": {
    "tags": []
   },
   "outputs": [
    {
     "name": "stdout",
     "output_type": "stream",
     "text": [
      "{1, 2, 3, 4, 5, 6, 7, 8, 9, 10, 11, 12, 13, 14, 15, 16, 17, 18, 19, 20, 21, 22, 23, 24, 25, 26, 27, 28, 29, 30, 31, 32, 33, 34, 35, 36, 37, 38, 39, 40, 41, 42, 43, 44, 45, 46, 47, 48, 49, 50, 51, 52, 53, 54, 55, 56, 57, 58, 59, 60, 61, 62, 63, 64, 65, 66, 67, 68, 69, 70, 71, 72, 73, 74, 75, 76, 77, 78, 79, 80, 81, 82, 83, 84, 85, 86, 87, 88, 89, 90, 91, 92, 93, 94, 95, 96, 97, 98, 99, 100, 101, 102, 103, 104, 105, 106, 107, 108, 109, 110, 111, 112, 113, 114, 115, 116, 117, 118, 119, 120, 121, 122, 123, 124, 125, 126, 127, 128, 129, 130, 131, 132, 133, 134, 135, 136, 137, 138, 139, 140, 141, 142, 143, 144, 145, 146, 147, 148, 149, 150, 151, 152, 153, 154, 155, 156, 157, 158, 159, 160, 161, 162, 163, 164, 165, 166, 167, 168, 169, 170, 171, 172, 173, 174, 175, 176, 177, 178, 179, 180, 181, 182, 183, 184, 185, 186, 187, 188, 189, 190, 191, 192, 193, 194, 195, 196, 197, 198, 199, 200, 201, 202, 203, 204, 205, 206, 207, 208, 209, 210, 211, 212, 213, 214, 215, 216, 217, 218, 219, 220, 221, 222, 223, 224, 225, 226, 227, 228, 229, 230, 231, 232, 233, 234, 235, 236, 237, 238, 239, 240, 241, 242, 243, 244, 245, 246, 247, 248, 249, 250, 251, 252, 253, 254, 255, 256, 257, 258, 259, 260, 261, 262, 263, 264, 265, 266, 267, 268, 269, 270, 271, 272, 273, 274, 275, 276, 277, 278, 279, 280, 281, 282, 283, 284, 285, 286, 287, 288, 289, 290, 291, 292, 293, 294, 295, 296, 297, 298, 299, 300, 301, 302, 303, 304, 305, 306, 307, 308, 309, 310, 311, 312, 313, 314, 315, 316, 317, 318, 319, 320, 321, 322, 323, 324, 325, 326, 327, 328, 329, 330, 331, 332, 333, 334, 335, 336, 337, 338, 339, 340, 341, 342, 343, 344, 345, 346, 347, 348, 349, 350, 351, 352, 353, 354, 355, 356, 357, 358, 359, 360, 361, 362, 363, 364, 365, 366, 367, 368, 369, 370, 371, 372, 373, 374, 375, 376, 377, 378, 379, 380, 381, 382, 383, 384, 385, 386, 387, 388, 389, 390, 391, 392, 393, 394, 395, 396, 397, 398, 399, 400, 401, 402, 403, 404, 405, 406, 407, 408, 409, 410, 411, 412, 413, 414, 415, 416, 417, 418, 419, 420, 421, 422, 423, 424, 425, 426, 427, 428, 429, 430, 431, 432, 433, 434, 435, 436, 437, 438, 439, 440, 441, 442, 443, 444, 445, 446, 447, 448, 449, 450, 451, 452, 453, 454, 455, 456, 457, 458, 459, 460, 461, 462, 463, 464, 465, 466, 467, 468, 469, 470, 471, 472, 473, 474, 475, 476, 477, 478, 479, 480, 481, 482, 483, 484, 485, 486, 487, 488, 489, 490, 491, 492, 493, 494, 495, 496, 497, 498, 499, 500, 501, 502, 503, 504, 505, 506, 507, 508, 509, 510, 511, 512, 513, 514, 515, 516, 517, 518, 519, 520, 521, 522, 523, 524, 525, 526, 527, 528, 529, 530, 531, 532, 533, 534, 535, 536, 537, 538, 539, 540, 541, 542, 543, 544, 545, 546, 547, 548, 549, 550, 551, 552, 553, 554, 555, 556, 557, 558, 559, 560, 561, 562, 563, 564, 565, 566, 567, 568, 569, 570, 571, 572, 573, 574, 575, 576, 577, 578, 579, 580, 581, 582, 583, 584, 585, 586, 587, 588, 589, 590, 591, 592, 593, 594, 595, 596, 597, 598, 599, 600, 601, 602, 603, 604, 605, 606, 607, 608, 609, 610, 611, 612, 613, 614, 615, 616, 617, 618, 619, 620, 621, 622, 623, 624, 625, 626, 627, 628, 629, 630, 631, 632, 633, 634, 635, 636, 637, 638, 639, 640, 641, 642, 643, 644, 645, 646, 647, 648, 649, 650, 651, 652, 653, 654, 655, 656, 657, 658, 659, 660, 661, 662, 663, 664, 665, 666, 667, 668, 669, 670, 671, 672, 673, 674, 675, 676, 677, 678, 679, 680, 681, 682, 683, 684, 685, 686, 687, 688, 689, 690, 691, 692, 693, 694, 695, 696, 697, 698, 699, 700, 701, 702, 703, 704, 705, 706, 707, 708, 709, 710, 711, 712, 713, 714, 715, 716, 717, 718, 719, 720, 721, 722, 723, 724, 725, 726, 727, 728, 729, 730, 731}\n"
     ]
    }
   ],
   "source": [
    "#Range doesn't include the end number\n",
    "alldays = set(range(1, 732))\n",
    "\n",
    "print(alldays)\n"
   ]
  },
  {
   "cell_type": "markdown",
   "id": "c75e0934-4ef6-48a2-b2da-2e3dea2fa640",
   "metadata": {},
   "source": [
    "#### Create a set from the days in our dataset"
   ]
  },
  {
   "cell_type": "code",
   "execution_count": 20,
   "id": "6fd63d53-67db-4fd3-9bb3-9e2ef1876e78",
   "metadata": {
    "tags": []
   },
   "outputs": [
    {
     "name": "stdout",
     "output_type": "stream",
     "text": [
      "{1, 2, 3, 4, 5, 6, 7, 8, 9, 10, 11, 12, 13, 14, 15, 16, 17, 18, 19, 20, 21, 22, 23, 24, 25, 26, 27, 28, 29, 30, 31, 32, 33, 34, 35, 36, 37, 38, 39, 40, 41, 42, 43, 44, 45, 46, 47, 48, 49, 50, 51, 52, 53, 54, 55, 56, 57, 58, 59, 60, 61, 62, 63, 64, 65, 66, 67, 68, 69, 70, 71, 72, 73, 74, 75, 76, 77, 78, 79, 80, 81, 82, 83, 84, 85, 86, 87, 88, 89, 90, 91, 92, 93, 94, 95, 96, 97, 98, 99, 100, 101, 102, 103, 104, 105, 106, 107, 108, 109, 110, 111, 112, 113, 114, 115, 116, 117, 118, 119, 120, 121, 122, 123, 124, 125, 126, 127, 128, 129, 130, 131, 132, 133, 134, 135, 136, 137, 138, 139, 140, 141, 142, 143, 144, 145, 146, 147, 148, 149, 150, 151, 152, 153, 154, 155, 156, 157, 158, 159, 160, 161, 162, 163, 164, 165, 166, 167, 168, 169, 170, 171, 172, 173, 174, 175, 176, 177, 178, 179, 180, 181, 182, 183, 184, 185, 186, 187, 188, 189, 190, 191, 192, 193, 194, 195, 196, 197, 198, 199, 200, 201, 202, 203, 204, 205, 206, 207, 208, 209, 210, 211, 212, 213, 214, 215, 216, 217, 218, 219, 220, 221, 222, 223, 224, 225, 226, 227, 228, 229, 230, 231, 232, 233, 234, 235, 236, 237, 238, 239, 240, 241, 242, 243, 244, 245, 246, 247, 248, 249, 250, 251, 252, 253, 254, 255, 256, 257, 258, 259, 260, 261, 262, 263, 264, 265, 266, 267, 268, 269, 270, 271, 272, 273, 274, 275, 276, 277, 278, 279, 280, 281, 282, 283, 284, 285, 286, 287, 288, 289, 290, 291, 292, 293, 294, 295, 296, 297, 298, 299, 300, 301, 302, 303, 304, 305, 306, 307, 308, 309, 310, 311, 312, 313, 314, 315, 316, 317, 318, 319, 320, 321, 322, 323, 324, 325, 326, 327, 328, 329, 330, 331, 332, 333, 334, 335, 336, 337, 338, 339, 340, 341, 342, 343, 344, 345, 346, 347, 348, 349, 350, 351, 352, 353, 354, 355, 356, 357, 358, 359, 360, 361, 362, 363, 364, 365, 366, 367, 368, 369, 370, 371, 372, 373, 374, 375, 376, 377, 378, 379, 380, 381, 382, 383, 384, 385, 386, 387, 388, 389, 390, 391, 392, 393, 394, 395, 396, 397, 398, 399, 400, 401, 402, 403, 404, 405, 406, 407, 408, 409, 410, 411, 412, 413, 414, 415, 416, 417, 418, 419, 420, 421, 422, 423, 424, 425, 426, 427, 428, 429, 430, 431, 432, 433, 434, 435, 436, 437, 438, 439, 440, 441, 442, 443, 444, 445, 446, 447, 448, 449, 450, 451, 452, 453, 454, 455, 456, 457, 458, 459, 460, 461, 462, 463, 464, 465, 466, 467, 468, 469, 470, 471, 472, 473, 474, 475, 476, 477, 478, 479, 480, 481, 482, 483, 484, 485, 486, 487, 488, 489, 490, 491, 492, 493, 494, 495, 496, 497, 498, 499, 500, 501, 502, 503, 504, 505, 506, 507, 508, 509, 510, 511, 512, 513, 514, 515, 516, 517, 518, 519, 520, 521, 522, 523, 524, 525, 526, 527, 528, 529, 530, 531, 532, 533, 534, 535, 536, 537, 538, 539, 540, 541, 542, 543, 544, 545, 546, 547, 548, 549, 550, 551, 552, 553, 554, 555, 556, 557, 558, 559, 560, 561, 562, 563, 564, 565, 566, 567, 568, 569, 570, 571, 572, 573, 574, 575, 576, 577, 578, 579, 580, 581, 582, 583, 584, 585, 586, 587, 588, 589, 590, 591, 592, 593, 594, 595, 596, 597, 598, 599, 600, 601, 602, 603, 604, 605, 606, 607, 608, 609, 610, 611, 612, 613, 614, 615, 616, 617, 618, 619, 620, 621, 622, 623, 624, 625, 626, 627, 628, 629, 630, 631, 632, 633, 634, 635, 636, 637, 638, 639, 640, 641, 642, 643, 644, 645, 646, 647, 648, 649, 650, 651, 652, 653, 654, 655, 656, 657, 658, 659, 660, 661, 662, 663, 664, 665, 666, 667, 668, 669, 670, 671, 672, 673, 674, 675, 676, 677, 678, 679, 680, 681, 682, 683, 684, 685, 686, 687, 688, 689, 690, 691, 692, 693, 694, 695, 696, 697, 698, 699, 700, 701, 702, 703, 704, 705, 706, 707, 708, 709, 710, 711, 712, 713, 714, 715, 716, 717, 718, 719, 720, 721, 722, 723, 724, 725, 726, 727, 728, 729, 730, 731}\n"
     ]
    }
   ],
   "source": [
    "#create set of all existing days\n",
    "dfdays = set(df.index)\n",
    "\n",
    "print(dfdays)"
   ]
  },
  {
   "cell_type": "markdown",
   "id": "3bcc8f6c-c604-4f77-a028-bc644717518f",
   "metadata": {},
   "source": [
    "##### We can subtract sets from each other to identify the differences between the two\n",
    "\n",
    "##### Since the difference is empty, we have validated that there are no missing or duplicated days"
   ]
  },
  {
   "cell_type": "code",
   "execution_count": 21,
   "id": "0e4a9632-1146-4148-a9fb-717cf6dcf726",
   "metadata": {
    "tags": []
   },
   "outputs": [
    {
     "data": {
      "text/plain": [
       "set()"
      ]
     },
     "execution_count": 21,
     "metadata": {},
     "output_type": "execute_result"
    }
   ],
   "source": [
    "#check for missing days\n",
    "missingdays = alldays - dfdays #all days exist\n",
    "\n",
    "#set is empty\n",
    "missingdays"
   ]
  },
  {
   "cell_type": "markdown",
   "id": "0bb13b45-0902-4431-bd1f-ef17af485f25",
   "metadata": {},
   "source": [
    "#### An example of what the result would look like if there were differences in the set:"
   ]
  },
  {
   "cell_type": "code",
   "execution_count": 22,
   "id": "4ab19e0f-fef8-40e0-a260-92c707e6f17e",
   "metadata": {
    "tags": []
   },
   "outputs": [
    {
     "data": {
      "text/plain": [
       "{0, 732, 733, 734}"
      ]
     },
     "execution_count": 22,
     "metadata": {},
     "output_type": "execute_result"
    }
   ],
   "source": [
    "alldays = set(range(0,735))\n",
    "missingdays = alldays - dfdays\n",
    "missingdays"
   ]
  },
  {
   "cell_type": "markdown",
   "id": "67b25510-0a0f-4195-9c54-22929fe1b492",
   "metadata": {},
   "source": [
    "#### Another way to verify that there are no duplicated days in our dataset:"
   ]
  },
  {
   "cell_type": "code",
   "execution_count": 23,
   "id": "9f55e913-1ffd-484c-82b7-14d7d94be0b1",
   "metadata": {
    "tags": []
   },
   "outputs": [
    {
     "data": {
      "text/html": [
       "<div>\n",
       "<style scoped>\n",
       "    .dataframe tbody tr th:only-of-type {\n",
       "        vertical-align: middle;\n",
       "    }\n",
       "\n",
       "    .dataframe tbody tr th {\n",
       "        vertical-align: top;\n",
       "    }\n",
       "\n",
       "    .dataframe thead th {\n",
       "        text-align: right;\n",
       "    }\n",
       "</style>\n",
       "<table border=\"1\" class=\"dataframe\">\n",
       "  <thead>\n",
       "    <tr style=\"text-align: right;\">\n",
       "      <th></th>\n",
       "      <th>Revenue</th>\n",
       "    </tr>\n",
       "    <tr>\n",
       "      <th>Day</th>\n",
       "      <th></th>\n",
       "    </tr>\n",
       "  </thead>\n",
       "  <tbody>\n",
       "  </tbody>\n",
       "</table>\n",
       "</div>"
      ],
      "text/plain": [
       "Empty DataFrame\n",
       "Columns: [Revenue]\n",
       "Index: []"
      ]
     },
     "execution_count": 23,
     "metadata": {},
     "output_type": "execute_result"
    }
   ],
   "source": [
    "#check for duplicate indexes\n",
    "df[df.index.duplicated(keep=False)] #no duplicates\n"
   ]
  },
  {
   "cell_type": "markdown",
   "id": "a94ddfb5-47c9-48b2-9ec2-c9bcab9861cf",
   "metadata": {},
   "source": [
    "#### Convert the `Day` column to dates"
   ]
  },
  {
   "cell_type": "code",
   "execution_count": 24,
   "id": "11e8b94f-7dfe-4e1e-a377-770f26769242",
   "metadata": {
    "tags": []
   },
   "outputs": [
    {
     "data": {
      "text/html": [
       "<div>\n",
       "<style scoped>\n",
       "    .dataframe tbody tr th:only-of-type {\n",
       "        vertical-align: middle;\n",
       "    }\n",
       "\n",
       "    .dataframe tbody tr th {\n",
       "        vertical-align: top;\n",
       "    }\n",
       "\n",
       "    .dataframe thead th {\n",
       "        text-align: right;\n",
       "    }\n",
       "</style>\n",
       "<table border=\"1\" class=\"dataframe\">\n",
       "  <thead>\n",
       "    <tr style=\"text-align: right;\">\n",
       "      <th></th>\n",
       "      <th>Revenue</th>\n",
       "    </tr>\n",
       "  </thead>\n",
       "  <tbody>\n",
       "    <tr>\n",
       "      <th>2022-01-01</th>\n",
       "      <td>0.000000</td>\n",
       "    </tr>\n",
       "    <tr>\n",
       "      <th>2022-01-02</th>\n",
       "      <td>0.000793</td>\n",
       "    </tr>\n",
       "    <tr>\n",
       "      <th>2022-01-03</th>\n",
       "      <td>0.825542</td>\n",
       "    </tr>\n",
       "    <tr>\n",
       "      <th>2022-01-04</th>\n",
       "      <td>0.320332</td>\n",
       "    </tr>\n",
       "    <tr>\n",
       "      <th>2022-01-05</th>\n",
       "      <td>1.082554</td>\n",
       "    </tr>\n",
       "  </tbody>\n",
       "</table>\n",
       "</div>"
      ],
      "text/plain": [
       "             Revenue\n",
       "2022-01-01  0.000000\n",
       "2022-01-02  0.000793\n",
       "2022-01-03  0.825542\n",
       "2022-01-04  0.320332\n",
       "2022-01-05  1.082554"
      ]
     },
     "execution_count": 24,
     "metadata": {},
     "output_type": "execute_result"
    }
   ],
   "source": [
    "# period represents how many iterations of the frequency\n",
    "df.index = pd.date_range(start='2022-01-01', \n",
    "                         periods=731, \n",
    "                         freq='D')\n",
    "\n",
    "#confirm formating of index\n",
    "df.head()"
   ]
  },
  {
   "cell_type": "markdown",
   "id": "db34cf21-3bfd-47f0-9c97-0e0739525a41",
   "metadata": {},
   "source": [
    "## Stationary\n",
    "- Based on the graph below, we can see that the data is not stationary since we see an upwards trend and the mean is chaning over time."
   ]
  },
  {
   "cell_type": "code",
   "execution_count": 25,
   "id": "63b6e4f9-16ea-44ed-9eb9-ba58d2b12ceb",
   "metadata": {
    "tags": []
   },
   "outputs": [
    {
     "data": {
      "image/png": "[encoded data removed]",
      "text/plain": [
       "<Figure size 640x480 with 1 Axes>"
      ]
     },
     "metadata": {},
     "output_type": "display_data"
    }
   ],
   "source": [
    "#Plot the time series\n",
    "df.plot(xlabel='Day', ylabel='Revenue', grid=True, \n",
    "        title='Revenue in Millions for the Last Two Years', \n",
    "        legend=False)\n",
    "plt.show()\n"
   ]
  },
  {
   "cell_type": "markdown",
   "id": "55c192b8-ce10-4e1d-85f9-1744771c7231",
   "metadata": {},
   "source": [
    "#### We can verify that the data is not stationary by using the Augmented Dickey-Fuller test\n",
    "- A statistical significance test\n",
    "- **Null Hypothesis:** Data is stationary\n",
    "- **Alternate Hypothesis:** Data is not stationary"
   ]
  },
  {
   "cell_type": "code",
   "execution_count": 26,
   "id": "82fe062c-5301-4446-b099-1f6269498a2b",
   "metadata": {
    "tags": []
   },
   "outputs": [],
   "source": [
    "from statsmodels.tsa.stattools import adfuller #for augmented dickey-fuller (d stationarity)\n",
    "\n",
    "#perform test\n",
    "adfresult = adfuller(df['Revenue'])\n"
   ]
  },
  {
   "cell_type": "markdown",
   "id": "3b0ff7c3-a55d-4fbd-8de6-56d6039e5a32",
   "metadata": {},
   "source": [
    "#### ADF Result Meaning:\n",
    "Test Statistic\n",
    "\n",
    "p-value\n",
    "\n",
    "Number of lags\n",
    "\n",
    "Number of observations\n",
    "\n",
    "Critical values"
   ]
  },
  {
   "cell_type": "code",
   "execution_count": 27,
   "id": "7b7fca69-450b-46b7-b5a4-8b61ff3ba828",
   "metadata": {
    "tags": []
   },
   "outputs": [
    {
     "data": {
      "text/plain": [
       "(-1.924612157310183,\n",
       " 0.3205728150793967,\n",
       " 1,\n",
       " 729,\n",
       " {'1%': -3.4393520240470554,\n",
       "  '5%': -2.8655128165959236,\n",
       "  '10%': -2.5688855736949163},\n",
       " 965.0609576707513)"
      ]
     },
     "execution_count": 27,
     "metadata": {},
     "output_type": "execute_result"
    }
   ],
   "source": [
    "adfresult"
   ]
  },
  {
   "cell_type": "markdown",
   "id": "60f6a967-1b8f-4d7c-9e9d-643db7b83e7a",
   "metadata": {},
   "source": [
    "#### Test Statistic:"
   ]
  },
  {
   "cell_type": "code",
   "execution_count": 28,
   "id": "b6ea0065-9863-4259-b341-8d1fbf2449f1",
   "metadata": {
    "tags": []
   },
   "outputs": [
    {
     "data": {
      "text/plain": [
       "-1.924612157310183"
      ]
     },
     "execution_count": 28,
     "metadata": {},
     "output_type": "execute_result"
    }
   ],
   "source": [
    "adfresult[0]   "
   ]
  },
  {
   "cell_type": "markdown",
   "id": "a7184b03-51c9-4fec-b991-3ceeda49ec15",
   "metadata": {},
   "source": [
    "#### p-value:\n",
    "Since the p-value is not significant, we reject the null hypothesis, and conclude that the data is not stationary"
   ]
  },
  {
   "cell_type": "code",
   "execution_count": 29,
   "id": "cfe5314a-7fd7-4ebc-b330-0d8236be629f",
   "metadata": {
    "tags": []
   },
   "outputs": [
    {
     "data": {
      "text/plain": [
       "0.3205728150793967"
      ]
     },
     "execution_count": 29,
     "metadata": {},
     "output_type": "execute_result"
    }
   ],
   "source": [
    "#p value \n",
    "adfresult[1] "
   ]
  },
  {
   "cell_type": "markdown",
   "id": "b4d00af9-2156-48e6-97a6-d6ec96694849",
   "metadata": {},
   "source": [
    "#### Critical Values:\n",
    "The test statistic is greater than the critical values, so again, we can conclude that the data is not stationary"
   ]
  },
  {
   "cell_type": "code",
   "execution_count": 30,
   "id": "f61ac595-c007-4491-89a9-5af4dea5bec7",
   "metadata": {
    "tags": []
   },
   "outputs": [
    {
     "data": {
      "text/plain": [
       "{'1%': -3.4393520240470554,\n",
       " '5%': -2.8655128165959236,\n",
       " '10%': -2.5688855736949163}"
      ]
     },
     "execution_count": 30,
     "metadata": {},
     "output_type": "execute_result"
    }
   ],
   "source": [
    "#critical values\n",
    "adfresult[4]"
   ]
  },
  {
   "cell_type": "markdown",
   "id": "5aafe742-7ee5-4ddb-8a32-fb68479e32a7",
   "metadata": {},
   "source": [
    "### Since the data is not stationary, the next step is to transform the data\n",
    "- Take the differences between each point, take the logarithm of each point, etc..."
   ]
  },
  {
   "cell_type": "code",
   "execution_count": 31,
   "id": "491188e6-bc7e-4e91-b90f-3b42a1aa653c",
   "metadata": {
    "tags": []
   },
   "outputs": [],
   "source": [
    " # change actuals to differences\n",
    "diff_df = df.diff()"
   ]
  },
  {
   "cell_type": "markdown",
   "id": "8f640bf2-f901-4d70-aeed-13a7046579de",
   "metadata": {},
   "source": [
    "##### We expect the first row to be Null since there is no data point for the first record to be compared to"
   ]
  },
  {
   "cell_type": "code",
   "execution_count": 32,
   "id": "680966b1-0095-4b4d-a745-09eb119eb5c5",
   "metadata": {
    "tags": []
   },
   "outputs": [
    {
     "data": {
      "text/html": [
       "<div>\n",
       "<style scoped>\n",
       "    .dataframe tbody tr th:only-of-type {\n",
       "        vertical-align: middle;\n",
       "    }\n",
       "\n",
       "    .dataframe tbody tr th {\n",
       "        vertical-align: top;\n",
       "    }\n",
       "\n",
       "    .dataframe thead th {\n",
       "        text-align: right;\n",
       "    }\n",
       "</style>\n",
       "<table border=\"1\" class=\"dataframe\">\n",
       "  <thead>\n",
       "    <tr style=\"text-align: right;\">\n",
       "      <th></th>\n",
       "      <th>Revenue</th>\n",
       "    </tr>\n",
       "  </thead>\n",
       "  <tbody>\n",
       "    <tr>\n",
       "      <th>2022-01-01</th>\n",
       "      <td>NaN</td>\n",
       "    </tr>\n",
       "    <tr>\n",
       "      <th>2022-01-02</th>\n",
       "      <td>0.000793</td>\n",
       "    </tr>\n",
       "    <tr>\n",
       "      <th>2022-01-03</th>\n",
       "      <td>0.824749</td>\n",
       "    </tr>\n",
       "    <tr>\n",
       "      <th>2022-01-04</th>\n",
       "      <td>-0.505210</td>\n",
       "    </tr>\n",
       "    <tr>\n",
       "      <th>2022-01-05</th>\n",
       "      <td>0.762222</td>\n",
       "    </tr>\n",
       "  </tbody>\n",
       "</table>\n",
       "</div>"
      ],
      "text/plain": [
       "             Revenue\n",
       "2022-01-01       NaN\n",
       "2022-01-02  0.000793\n",
       "2022-01-03  0.824749\n",
       "2022-01-04 -0.505210\n",
       "2022-01-05  0.762222"
      ]
     },
     "execution_count": 32,
     "metadata": {},
     "output_type": "execute_result"
    }
   ],
   "source": [
    "#check for Na on first row\n",
    "diff_df.head()"
   ]
  },
  {
   "cell_type": "markdown",
   "id": "31037e50-15ca-4d9f-96a9-e8fe8bb427b8",
   "metadata": {},
   "source": [
    "##### Since the first record is null, we will drop it from our dataframe"
   ]
  },
  {
   "cell_type": "code",
   "execution_count": 34,
   "id": "dd04f687-8e6f-4897-8d68-cd04964dd99c",
   "metadata": {
    "tags": []
   },
   "outputs": [],
   "source": [
    "#drop na on first row\n",
    "diff_df = diff_df.dropna() "
   ]
  },
  {
   "cell_type": "code",
   "execution_count": 35,
   "id": "d60f5968-cc0d-466e-801e-cab38c16ce00",
   "metadata": {
    "tags": []
   },
   "outputs": [
    {
     "data": {
      "text/html": [
       "<div>\n",
       "<style scoped>\n",
       "    .dataframe tbody tr th:only-of-type {\n",
       "        vertical-align: middle;\n",
       "    }\n",
       "\n",
       "    .dataframe tbody tr th {\n",
       "        vertical-align: top;\n",
       "    }\n",
       "\n",
       "    .dataframe thead th {\n",
       "        text-align: right;\n",
       "    }\n",
       "</style>\n",
       "<table border=\"1\" class=\"dataframe\">\n",
       "  <thead>\n",
       "    <tr style=\"text-align: right;\">\n",
       "      <th></th>\n",
       "      <th>Revenue</th>\n",
       "    </tr>\n",
       "  </thead>\n",
       "  <tbody>\n",
       "    <tr>\n",
       "      <th>2022-01-02</th>\n",
       "      <td>0.000793</td>\n",
       "    </tr>\n",
       "    <tr>\n",
       "      <th>2022-01-03</th>\n",
       "      <td>0.824749</td>\n",
       "    </tr>\n",
       "    <tr>\n",
       "      <th>2022-01-04</th>\n",
       "      <td>-0.505210</td>\n",
       "    </tr>\n",
       "    <tr>\n",
       "      <th>2022-01-05</th>\n",
       "      <td>0.762222</td>\n",
       "    </tr>\n",
       "    <tr>\n",
       "      <th>2022-01-06</th>\n",
       "      <td>-0.974900</td>\n",
       "    </tr>\n",
       "  </tbody>\n",
       "</table>\n",
       "</div>"
      ],
      "text/plain": [
       "             Revenue\n",
       "2022-01-02  0.000793\n",
       "2022-01-03  0.824749\n",
       "2022-01-04 -0.505210\n",
       "2022-01-05  0.762222\n",
       "2022-01-06 -0.974900"
      ]
     },
     "execution_count": 35,
     "metadata": {},
     "output_type": "execute_result"
    }
   ],
   "source": [
    "diff_df.head()"
   ]
  },
  {
   "cell_type": "markdown",
   "id": "a465ca97-cd40-4f65-a851-8c3982b29821",
   "metadata": {},
   "source": [
    "##### Now we can see that the data is stationary and the mean/variance are the same throughout the dates"
   ]
  },
  {
   "cell_type": "code",
   "execution_count": 36,
   "id": "330a9ef3-6aa1-4582-99ed-a63a19abe99c",
   "metadata": {
    "tags": []
   },
   "outputs": [
    {
     "data": {
      "image/png": "[encoded data removed]",
      "text/plain": [
       "<Figure size 640x480 with 1 Axes>"
      ]
     },
     "metadata": {},
     "output_type": "display_data"
    }
   ],
   "source": [
    "#Plot the time series\n",
    "diff_df.plot(grid=True)\n",
    "plt.show()"
   ]
  },
  {
   "cell_type": "code",
   "execution_count": 38,
   "id": "bd309a12-f54c-483b-a9b4-ba6f89dcfd82",
   "metadata": {
    "tags": []
   },
   "outputs": [
    {
     "data": {
      "text/plain": [
       "(-44.87452719387599,\n",
       " 0.0,\n",
       " 0,\n",
       " 729,\n",
       " {'1%': -3.4393520240470554,\n",
       "  '5%': -2.8655128165959236,\n",
       "  '10%': -2.5688855736949163},\n",
       " 965.5032159185916)"
      ]
     },
     "execution_count": 38,
     "metadata": {},
     "output_type": "execute_result"
    }
   ],
   "source": [
    "adfresult = adfuller(diff_df['Revenue'])\n",
    "adfresult"
   ]
  },
  {
   "cell_type": "markdown",
   "id": "0cc06bf5-3f45-4cbe-a57e-33ec912f11c2",
   "metadata": {
    "tags": []
   },
   "source": [
    "#### Since the p-value is less than .05, it is significant so we fail to reject the null hypothesis and conclude that the data is stationary"
   ]
  },
  {
   "cell_type": "code",
   "execution_count": 39,
   "id": "12b513b5-635b-44cb-9420-23aedb34473a",
   "metadata": {
    "tags": []
   },
   "outputs": [
    {
     "data": {
      "text/plain": [
       "0.0"
      ]
     },
     "execution_count": 39,
     "metadata": {},
     "output_type": "execute_result"
    }
   ],
   "source": [
    "adfresult[1] "
   ]
  },
  {
   "cell_type": "markdown",
   "id": "3f5ec124-86e6-46a3-b39e-a1bb8e2d5bac",
   "metadata": {},
   "source": [
    "# Part 2\n",
    "- Split the data into train and test sets\n",
    "- Perform ARIMA modeling"
   ]
  },
  {
   "cell_type": "code",
   "execution_count": 42,
   "id": "c82d23cc-3ed3-45c4-b49f-3fd39e96a9a4",
   "metadata": {},
   "outputs": [
    {
     "data": {
      "text/plain": [
       "(731, 1)"
      ]
     },
     "execution_count": 42,
     "metadata": {},
     "output_type": "execute_result"
    }
   ],
   "source": [
    "#------------ Split train / test\n",
    "\n",
    "#24mo = all data\n",
    "#6mo = 25%.  75/25 =  18/6 months\n",
    "\n",
    "#train = 1/1/2017 - 6/30/2018\n",
    "#test = 7/1/2018 - 12/31/2019\n",
    "\n",
    "#break up train and test by calculated date\n",
    "train = df.loc[:'2018-06-30']\n",
    "test = df.loc['2018-07-01':]\n",
    "\n",
    "#confirm number of rows\n",
    "df.shape\n"
   ]
  },
  {
   "cell_type": "code",
   "execution_count": 43,
   "id": "93d06484-393d-4c35-9e47-28d2805911ff",
   "metadata": {
    "tags": []
   },
   "outputs": [
    {
     "data": {
      "text/plain": [
       "(546, 1)"
      ]
     },
     "execution_count": 43,
     "metadata": {},
     "output_type": "execute_result"
    }
   ],
   "source": [
    "train.shape\n"
   ]
  },
  {
   "cell_type": "code",
   "execution_count": 44,
   "id": "9bfda306-354c-4ae7-b466-89c130719af3",
   "metadata": {
    "tags": []
   },
   "outputs": [
    {
     "data": {
      "text/plain": [
       "(185, 1)"
      ]
     },
     "execution_count": 44,
     "metadata": {},
     "output_type": "execute_result"
    }
   ],
   "source": [
    "test.shape"
   ]
  },
  {
   "cell_type": "code",
   "execution_count": null,
   "id": "4065a385-459b-4838-8015-e9bab256cf37",
   "metadata": {},
   "outputs": [],
   "source": [
    "# %pip install pmdarima"
   ]
  },
  {
   "cell_type": "code",
   "execution_count": 48,
   "id": "9198229e-8ff2-4269-9ede-d50ba9b274aa",
   "metadata": {
    "tags": []
   },
   "outputs": [
    {
     "name": "stdout",
     "output_type": "stream",
     "text": [
      "Performing stepwise search to minimize aic\n",
      " ARIMA(2,1,2)(0,0,0)[0] intercept   : AIC=987.305, Time=0.57 sec\n",
      " ARIMA(0,1,0)(0,0,0)[0] intercept   : AIC=1162.819, Time=0.05 sec\n",
      " ARIMA(1,1,0)(0,0,0)[0] intercept   : AIC=983.122, Time=0.07 sec\n",
      " ARIMA(0,1,1)(0,0,0)[0] intercept   : AIC=1019.369, Time=0.08 sec\n",
      " ARIMA(0,1,0)(0,0,0)[0]             : AIC=1162.139, Time=0.02 sec\n",
      " ARIMA(2,1,0)(0,0,0)[0] intercept   : AIC=985.104, Time=0.09 sec\n",
      " ARIMA(1,1,1)(0,0,0)[0] intercept   : AIC=985.106, Time=0.05 sec\n",
      " ARIMA(2,1,1)(0,0,0)[0] intercept   : AIC=986.045, Time=0.33 sec\n",
      " ARIMA(1,1,0)(0,0,0)[0]             : AIC=984.710, Time=0.03 sec\n",
      "\n",
      "Best model:  ARIMA(1,1,0)(0,0,0)[0] intercept\n",
      "Total fit time: 1.277 seconds\n"
     ]
    }
   ],
   "source": [
    "from pmdarima import auto_arima #alternative to finding p/q\n",
    "\n",
    "#-Run auto arima on original data for comparison to acf/pacf for pdq\n",
    "\n",
    "stepwise_fit=auto_arima(df['Revenue'],trace=True, suppress_warnings=True)"
   ]
  },
  {
   "cell_type": "code",
   "execution_count": null,
   "id": "e2f60ef3-4a83-4075-87b3-941059ae550c",
   "metadata": {},
   "outputs": [],
   "source": []
  }
 ],
 "metadata": {
  "kernelspec": {
   "display_name": "Python 3 (ipykernel)",
   "language": "python",
   "name": "python3"
  },
  "language_info": {
   "codemirror_mode": {
    "name": "ipython",
    "version": 3
   },
   "file_extension": ".py",
   "mimetype": "text/x-python",
   "name": "python",
   "nbconvert_exporter": "python",
   "pygments_lexer": "ipython3",
   "version": "3.11.5"
  }
 },
 "nbformat": 4,
 "nbformat_minor": 5
}
