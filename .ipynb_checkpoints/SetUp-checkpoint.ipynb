{
 "cells": [
  {
   "cell_type": "markdown",
   "metadata": {},
   "source": [
    "### Installing Softwares"
   ]
  },
  {
   "cell_type": "markdown",
   "metadata": {},
   "source": [
    "#### Anaconda\n",
    "- Anaconda is a platform used for simplifying package management and deployment for R and Python\n",
    "- Install:\n",
    "    - Navigate to the following site and click Download (https://www.anaconda.com/download)\n",
    "    - Once downloaded, you can access JupyterLab (Browser based), Jupyter Notebook (Browser based), VS Code, etc... "
   ]
  },
  {
   "cell_type": "markdown",
   "metadata": {},
   "source": [
    "### Github\n",
    "- Github is a developer platform that allows users to create, manage, store, and share their code\n",
    "    - Allows for easy collaboration, source control, continuous integration, etc...\n",
    "- Install/Set up Account:\n",
    "    - Navigate to https://github.com/ to create an account\n",
    "    - Navigate to https://gitforwindows.org/ to download git on your machine\n",
    "        - Open terminal/PowerShell on your desktop and type `git version` to ensure that it was installed properly (Ex: git version 2.43.0.windows.1)\n",
    "        "
   ]
  },
  {
   "cell_type": "markdown",
   "metadata": {},
   "source": [
    "### Viewing/Cloning Projects from Github\n",
    "- Navigate to https://github.com/Krescenskok/DataScienceSessions to view the most recent files\n",
    "- **Cloning Repository**:\n",
    "    - Once you have navigated to the link above, click on the `<> Code` button and copy the HTTPS link (https://github.com/Krescenskok/DataScienceSessions.git)\n",
    "    - In your file explorer, create a new folder -> Click into the folder -> Right Click -> Select Open in Terminal\n",
    "    - In the terminal/PowerShell, type and enter the following to clone the repository: `git clone https://github.com/Krescenskok/DataScienceSessions.git`\n",
    "        - Once the repository has been cloned, you will then see the files show up in the folder\n",
    "    - **Useful Commands**: Navigate to the folder you cloned and enter these commands in the terminal/PowerShell \n",
    "        - `git pull`: Pull all the latest files and update your folder if there are changes made\n",
    "        - `git push`: Push all the changes you have made to the files\n",
    "- **Open Repository**:\n",
    "    - Launch any environment in Anaconda (VS Code, JupyterLab, etc...)\n",
    "    - Open or navigate to the folder you have created and you will be able to open the Jupyter Notebooks that are provided in the repository\n",
    "\n"
   ]
  },
  {
   "cell_type": "markdown",
   "metadata": {},
   "source": []
  }
 ],
 "metadata": {
  "language_info": {
   "name": "python"
  },
  "orig_nbformat": 4
 },
 "nbformat": 4,
 "nbformat_minor": 2
}
