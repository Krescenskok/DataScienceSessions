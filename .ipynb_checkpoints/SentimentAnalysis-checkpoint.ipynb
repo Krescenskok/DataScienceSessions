{
 "cells": [
  {
   "cell_type": "markdown",
   "id": "99cf6477-0679-4db7-b47a-3427cbee61c0",
   "metadata": {},
   "source": [
    "# Sentiment Analysis\n",
    "\n",
    "- The process of analyzing text to determine if the emotional tone of the message is positive, negative, or neutral.\n",
    "- **For Example:** A business could use sentiment analysis to determine what is right or wrong about their product and understand more about their customers"
   ]
  },
  {
   "cell_type": "markdown",
   "id": "18faef7e-0931-417b-bbb0-5ccad84c3297",
   "metadata": {},
   "source": [
    "# Neural Network\n",
    "\n",
    "- A machine learning model that teaches computers to process data in a way that is inspired by the human brain. It uses interconnected nodes or neurons in a layered structure that resembles the human brain.\n",
    "- Creates an adaptive system that computers use to learn from their mistakes and improve continuously\n",
    "- **For Example:** Identifying a dog or cat\n",
    "\n",
    "<img src=\"NeuralNetwork.png\" width=\"500\"/>\n",
    "\n",
    "- **Input Layer:** Information from the outside world enters the neural network. The input nodes then process the data, analyze or categorize it, and then passes it on the the next layer\n",
    "- **Hidden Layers:** Takes the input from the input layer or other hidden layers. Neural Networks can have a large number of hidden layers where each layer analyzes the output from the previous layer, processes it further, and passes it on to the next layer\n",
    "- **Weights:** A node in the layers will assign a number. When the layer/network is active, the node receives a number representing the data and multiplies it by the associated weight.\n",
    "    - These are parameters that are adjusted during the training process to minimize the difference between the actual output and the target output\n",
    "    - The adjustment of weights and biases are done in the hidden layers, constantly changing to improve the outputs\n",
    "- **Output Layer:** Gives the final result of all the data processing by the artificial neural network. In our analysis, we have a binary result (0 or 1), so there will be 2 nodes resulting in either 0 or 1. Other neural networks can have mutliple output nodes where there are more than 2 classifications (angry, sad, happy, etc...)\n",
    "    - The output of a neuron is expressed by: output = inputs * weights + bias\n",
    "    - Based on the threshold, the output is classified into the possible results\n",
    "- **Activation Functions:** Math functions applied to the output of a neuron or a layer. They introduce non-linearity into the network, allowing the model to learn complex relationships"
   ]
  },
  {
   "cell_type": "markdown",
   "id": "4a3efba0-8f60-47b8-ab5f-fad08e27b9fe",
   "metadata": {},
   "source": [
    "### Research Question:\n",
    "Is it possible to use a neural network and sentiment analysis to predict positive or negative connatation from text reviews about how customers feel about a product or service, without human interpretation.\n",
    "- This analysis will enable the business to quickly synthesize large amounts of sentiment and quickly aggregate responses to the overall reception of products and services over time."
   ]
  },
  {
   "cell_type": "markdown",
   "id": "65993294-a9da-4302-96b4-a55ddf7879fa",
   "metadata": {},
   "source": [
    "## Data\n",
    "- 3 text files, negative or positive indicator is separated by a tab:\n",
    "   - Amazon: Reviews about a product\n",
    "   - IMDB: Reviews about a movie\n",
    "   - Yelp: Reviews about a restuarant"
   ]
  },
  {
   "cell_type": "code",
   "execution_count": 1,
   "id": "ca964ff9-b668-4a15-bfcd-9cb26650fb86",
   "metadata": {},
   "outputs": [],
   "source": [
    "import pandas as pd"
   ]
  },
  {
   "cell_type": "markdown",
   "id": "0d664dc1-2fe1-43d1-9001-c929cf1b0b75",
   "metadata": {},
   "source": [
    "- In the text files, there are no headers\n",
    "- Import the data with a tab separator\n",
    "- The tab indicator requires a python engine\n",
    "- Add a column to each import to record the source\n",
    "- **Supervised vs Unsupervised Learning:** Supervised learning uses labeled training data, while unsupervised does not\n",
    "     - Clustering algorithms/models are a a form of unsupervised learning"
   ]
  },
  {
   "cell_type": "code",
   "execution_count": 2,
   "id": "a1801a86-6264-4ac8-a4e2-8c94978f6849",
   "metadata": {},
   "outputs": [
    {
     "data": {
      "text/html": [
       "<div>\n",
       "<style scoped>\n",
       "    .dataframe tbody tr th:only-of-type {\n",
       "        vertical-align: middle;\n",
       "    }\n",
       "\n",
       "    .dataframe tbody tr th {\n",
       "        vertical-align: top;\n",
       "    }\n",
       "\n",
       "    .dataframe thead th {\n",
       "        text-align: right;\n",
       "    }\n",
       "</style>\n",
       "<table border=\"1\" class=\"dataframe\">\n",
       "  <thead>\n",
       "    <tr style=\"text-align: right;\">\n",
       "      <th></th>\n",
       "      <th>0</th>\n",
       "      <th>1</th>\n",
       "      <th>source</th>\n",
       "    </tr>\n",
       "  </thead>\n",
       "  <tbody>\n",
       "    <tr>\n",
       "      <th>0</th>\n",
       "      <td>So there is no way for me to plug it in here i...</td>\n",
       "      <td>0</td>\n",
       "      <td>Amazon</td>\n",
       "    </tr>\n",
       "    <tr>\n",
       "      <th>1</th>\n",
       "      <td>Good case, Excellent value.</td>\n",
       "      <td>1</td>\n",
       "      <td>Amazon</td>\n",
       "    </tr>\n",
       "    <tr>\n",
       "      <th>2</th>\n",
       "      <td>Great for the jawbone.</td>\n",
       "      <td>1</td>\n",
       "      <td>Amazon</td>\n",
       "    </tr>\n",
       "    <tr>\n",
       "      <th>3</th>\n",
       "      <td>Tied to charger for conversations lasting more...</td>\n",
       "      <td>0</td>\n",
       "      <td>Amazon</td>\n",
       "    </tr>\n",
       "    <tr>\n",
       "      <th>4</th>\n",
       "      <td>The mic is great.</td>\n",
       "      <td>1</td>\n",
       "      <td>Amazon</td>\n",
       "    </tr>\n",
       "  </tbody>\n",
       "</table>\n",
       "</div>"
      ],
      "text/plain": [
       "                                                   0  1  source\n",
       "0  So there is no way for me to plug it in here i...  0  Amazon\n",
       "1                        Good case, Excellent value.  1  Amazon\n",
       "2                             Great for the jawbone.  1  Amazon\n",
       "3  Tied to charger for conversations lasting more...  0  Amazon\n",
       "4                                  The mic is great.  1  Amazon"
      ]
     },
     "execution_count": 2,
     "metadata": {},
     "output_type": "execute_result"
    }
   ],
   "source": [
    "#import amazon file\n",
    "df_part1 = pd.read_csv('Datasets/amazon_cells_labelled.txt', sep='\\t+', engine='python', header=None)\n",
    "df_part1['source'] = 'Amazon'\n",
    "df_part1.head()"
   ]
  },
  {
   "cell_type": "code",
   "execution_count": 3,
   "id": "66f46e6b-54da-4d6d-b31b-37bf9bb4a1ef",
   "metadata": {},
   "outputs": [
    {
     "name": "stdout",
     "output_type": "stream",
     "text": [
      "<class 'pandas.core.frame.DataFrame'>\n",
      "RangeIndex: 1000 entries, 0 to 999\n",
      "Data columns (total 3 columns):\n",
      " #   Column  Non-Null Count  Dtype \n",
      "---  ------  --------------  ----- \n",
      " 0   0       1000 non-null   object\n",
      " 1   1       1000 non-null   int64 \n",
      " 2   source  1000 non-null   object\n",
      "dtypes: int64(1), object(2)\n",
      "memory usage: 23.6+ KB\n"
     ]
    }
   ],
   "source": [
    "df_part1.info()"
   ]
  },
  {
   "cell_type": "code",
   "execution_count": 4,
   "id": "e47b3d8d-b1bb-4483-9be5-cdebc4a852ce",
   "metadata": {},
   "outputs": [
    {
     "data": {
      "text/html": [
       "<div>\n",
       "<style scoped>\n",
       "    .dataframe tbody tr th:only-of-type {\n",
       "        vertical-align: middle;\n",
       "    }\n",
       "\n",
       "    .dataframe tbody tr th {\n",
       "        vertical-align: top;\n",
       "    }\n",
       "\n",
       "    .dataframe thead th {\n",
       "        text-align: right;\n",
       "    }\n",
       "</style>\n",
       "<table border=\"1\" class=\"dataframe\">\n",
       "  <thead>\n",
       "    <tr style=\"text-align: right;\">\n",
       "      <th></th>\n",
       "      <th>0</th>\n",
       "      <th>1</th>\n",
       "      <th>source</th>\n",
       "    </tr>\n",
       "  </thead>\n",
       "  <tbody>\n",
       "    <tr>\n",
       "      <th>0</th>\n",
       "      <td>A very, very, very slow-moving, aimless movie ...</td>\n",
       "      <td>0</td>\n",
       "      <td>IMDB</td>\n",
       "    </tr>\n",
       "    <tr>\n",
       "      <th>1</th>\n",
       "      <td>Not sure who was more lost - the flat characte...</td>\n",
       "      <td>0</td>\n",
       "      <td>IMDB</td>\n",
       "    </tr>\n",
       "    <tr>\n",
       "      <th>2</th>\n",
       "      <td>Attempting artiness with black &amp; white and cle...</td>\n",
       "      <td>0</td>\n",
       "      <td>IMDB</td>\n",
       "    </tr>\n",
       "    <tr>\n",
       "      <th>3</th>\n",
       "      <td>Very little music or anything to speak of.</td>\n",
       "      <td>0</td>\n",
       "      <td>IMDB</td>\n",
       "    </tr>\n",
       "    <tr>\n",
       "      <th>4</th>\n",
       "      <td>The best scene in the movie was when Gerardo i...</td>\n",
       "      <td>1</td>\n",
       "      <td>IMDB</td>\n",
       "    </tr>\n",
       "  </tbody>\n",
       "</table>\n",
       "</div>"
      ],
      "text/plain": [
       "                                                   0  1 source\n",
       "0  A very, very, very slow-moving, aimless movie ...  0   IMDB\n",
       "1  Not sure who was more lost - the flat characte...  0   IMDB\n",
       "2  Attempting artiness with black & white and cle...  0   IMDB\n",
       "3       Very little music or anything to speak of.    0   IMDB\n",
       "4  The best scene in the movie was when Gerardo i...  1   IMDB"
      ]
     },
     "execution_count": 4,
     "metadata": {},
     "output_type": "execute_result"
    }
   ],
   "source": [
    "#import imdb file\n",
    "df_part2 = pd.read_csv('Datasets/imdb_labelled.txt', sep='\\t+', engine='python', header=None)\n",
    "df_part2['source'] = 'IMDB'\n",
    "df_part2.head()"
   ]
  },
  {
   "cell_type": "code",
   "execution_count": 5,
   "id": "5cac588d-2af3-4ee7-8bb2-ec4e9067023c",
   "metadata": {},
   "outputs": [
    {
     "name": "stdout",
     "output_type": "stream",
     "text": [
      "<class 'pandas.core.frame.DataFrame'>\n",
      "RangeIndex: 1000 entries, 0 to 999\n",
      "Data columns (total 3 columns):\n",
      " #   Column  Non-Null Count  Dtype \n",
      "---  ------  --------------  ----- \n",
      " 0   0       1000 non-null   object\n",
      " 1   1       1000 non-null   int64 \n",
      " 2   source  1000 non-null   object\n",
      "dtypes: int64(1), object(2)\n",
      "memory usage: 23.6+ KB\n"
     ]
    }
   ],
   "source": [
    "df_part2.info()"
   ]
  },
  {
   "cell_type": "code",
   "execution_count": 6,
   "id": "a20de91b-8204-4d20-a5cb-165b9218fcb4",
   "metadata": {},
   "outputs": [
    {
     "data": {
      "text/html": [
       "<div>\n",
       "<style scoped>\n",
       "    .dataframe tbody tr th:only-of-type {\n",
       "        vertical-align: middle;\n",
       "    }\n",
       "\n",
       "    .dataframe tbody tr th {\n",
       "        vertical-align: top;\n",
       "    }\n",
       "\n",
       "    .dataframe thead th {\n",
       "        text-align: right;\n",
       "    }\n",
       "</style>\n",
       "<table border=\"1\" class=\"dataframe\">\n",
       "  <thead>\n",
       "    <tr style=\"text-align: right;\">\n",
       "      <th></th>\n",
       "      <th>0</th>\n",
       "      <th>1</th>\n",
       "      <th>source</th>\n",
       "    </tr>\n",
       "  </thead>\n",
       "  <tbody>\n",
       "    <tr>\n",
       "      <th>0</th>\n",
       "      <td>Wow... Loved this place.</td>\n",
       "      <td>1</td>\n",
       "      <td>Yelp</td>\n",
       "    </tr>\n",
       "    <tr>\n",
       "      <th>1</th>\n",
       "      <td>Crust is not good.</td>\n",
       "      <td>0</td>\n",
       "      <td>Yelp</td>\n",
       "    </tr>\n",
       "    <tr>\n",
       "      <th>2</th>\n",
       "      <td>Not tasty and the texture was just nasty.</td>\n",
       "      <td>0</td>\n",
       "      <td>Yelp</td>\n",
       "    </tr>\n",
       "    <tr>\n",
       "      <th>3</th>\n",
       "      <td>Stopped by during the late May bank holiday of...</td>\n",
       "      <td>1</td>\n",
       "      <td>Yelp</td>\n",
       "    </tr>\n",
       "    <tr>\n",
       "      <th>4</th>\n",
       "      <td>The selection on the menu was great and so wer...</td>\n",
       "      <td>1</td>\n",
       "      <td>Yelp</td>\n",
       "    </tr>\n",
       "  </tbody>\n",
       "</table>\n",
       "</div>"
      ],
      "text/plain": [
       "                                                   0  1 source\n",
       "0                           Wow... Loved this place.  1   Yelp\n",
       "1                                 Crust is not good.  0   Yelp\n",
       "2          Not tasty and the texture was just nasty.  0   Yelp\n",
       "3  Stopped by during the late May bank holiday of...  1   Yelp\n",
       "4  The selection on the menu was great and so wer...  1   Yelp"
      ]
     },
     "execution_count": 6,
     "metadata": {},
     "output_type": "execute_result"
    }
   ],
   "source": [
    "#import yelp file\n",
    "df_part3 = pd.read_csv('Datasets/yelp_labelled.txt', sep='\\t', header=None)\n",
    "df_part3['source'] = 'Yelp'\n",
    "df_part3.head()"
   ]
  },
  {
   "cell_type": "code",
   "execution_count": 7,
   "id": "257ac6ed-4278-43c9-886b-609d8ba2c04c",
   "metadata": {},
   "outputs": [
    {
     "name": "stdout",
     "output_type": "stream",
     "text": [
      "<class 'pandas.core.frame.DataFrame'>\n",
      "RangeIndex: 1000 entries, 0 to 999\n",
      "Data columns (total 3 columns):\n",
      " #   Column  Non-Null Count  Dtype \n",
      "---  ------  --------------  ----- \n",
      " 0   0       1000 non-null   object\n",
      " 1   1       1000 non-null   int64 \n",
      " 2   source  1000 non-null   object\n",
      "dtypes: int64(1), object(2)\n",
      "memory usage: 23.6+ KB\n"
     ]
    }
   ],
   "source": [
    "df_part3.info()"
   ]
  },
  {
   "cell_type": "markdown",
   "id": "812aa53a-e5e6-4fde-85da-a6573cf5c0a6",
   "metadata": {},
   "source": [
    "##### Combine the data together and specify header names"
   ]
  },
  {
   "cell_type": "code",
   "execution_count": 8,
   "id": "6502c69e-be0b-40dc-90df-606bcc1da1a0",
   "metadata": {},
   "outputs": [
    {
     "data": {
      "text/html": [
       "<div>\n",
       "<style scoped>\n",
       "    .dataframe tbody tr th:only-of-type {\n",
       "        vertical-align: middle;\n",
       "    }\n",
       "\n",
       "    .dataframe tbody tr th {\n",
       "        vertical-align: top;\n",
       "    }\n",
       "\n",
       "    .dataframe thead th {\n",
       "        text-align: right;\n",
       "    }\n",
       "</style>\n",
       "<table border=\"1\" class=\"dataframe\">\n",
       "  <thead>\n",
       "    <tr style=\"text-align: right;\">\n",
       "      <th></th>\n",
       "      <th>0</th>\n",
       "      <th>1</th>\n",
       "      <th>source</th>\n",
       "    </tr>\n",
       "  </thead>\n",
       "  <tbody>\n",
       "    <tr>\n",
       "      <th>0</th>\n",
       "      <td>So there is no way for me to plug it in here i...</td>\n",
       "      <td>0</td>\n",
       "      <td>Amazon</td>\n",
       "    </tr>\n",
       "    <tr>\n",
       "      <th>1</th>\n",
       "      <td>Good case, Excellent value.</td>\n",
       "      <td>1</td>\n",
       "      <td>Amazon</td>\n",
       "    </tr>\n",
       "    <tr>\n",
       "      <th>2</th>\n",
       "      <td>Great for the jawbone.</td>\n",
       "      <td>1</td>\n",
       "      <td>Amazon</td>\n",
       "    </tr>\n",
       "    <tr>\n",
       "      <th>3</th>\n",
       "      <td>Tied to charger for conversations lasting more...</td>\n",
       "      <td>0</td>\n",
       "      <td>Amazon</td>\n",
       "    </tr>\n",
       "    <tr>\n",
       "      <th>4</th>\n",
       "      <td>The mic is great.</td>\n",
       "      <td>1</td>\n",
       "      <td>Amazon</td>\n",
       "    </tr>\n",
       "    <tr>\n",
       "      <th>...</th>\n",
       "      <td>...</td>\n",
       "      <td>...</td>\n",
       "      <td>...</td>\n",
       "    </tr>\n",
       "    <tr>\n",
       "      <th>2995</th>\n",
       "      <td>I think food should have flavor and texture an...</td>\n",
       "      <td>0</td>\n",
       "      <td>Yelp</td>\n",
       "    </tr>\n",
       "    <tr>\n",
       "      <th>2996</th>\n",
       "      <td>Appetite instantly gone.</td>\n",
       "      <td>0</td>\n",
       "      <td>Yelp</td>\n",
       "    </tr>\n",
       "    <tr>\n",
       "      <th>2997</th>\n",
       "      <td>Overall I was not impressed and would not go b...</td>\n",
       "      <td>0</td>\n",
       "      <td>Yelp</td>\n",
       "    </tr>\n",
       "    <tr>\n",
       "      <th>2998</th>\n",
       "      <td>The whole experience was underwhelming, and I ...</td>\n",
       "      <td>0</td>\n",
       "      <td>Yelp</td>\n",
       "    </tr>\n",
       "    <tr>\n",
       "      <th>2999</th>\n",
       "      <td>Then, as if I hadn't wasted enough of my life ...</td>\n",
       "      <td>0</td>\n",
       "      <td>Yelp</td>\n",
       "    </tr>\n",
       "  </tbody>\n",
       "</table>\n",
       "<p>3000 rows × 3 columns</p>\n",
       "</div>"
      ],
      "text/plain": [
       "                                                      0  1  source\n",
       "0     So there is no way for me to plug it in here i...  0  Amazon\n",
       "1                           Good case, Excellent value.  1  Amazon\n",
       "2                                Great for the jawbone.  1  Amazon\n",
       "3     Tied to charger for conversations lasting more...  0  Amazon\n",
       "4                                     The mic is great.  1  Amazon\n",
       "...                                                 ... ..     ...\n",
       "2995  I think food should have flavor and texture an...  0    Yelp\n",
       "2996                           Appetite instantly gone.  0    Yelp\n",
       "2997  Overall I was not impressed and would not go b...  0    Yelp\n",
       "2998  The whole experience was underwhelming, and I ...  0    Yelp\n",
       "2999  Then, as if I hadn't wasted enough of my life ...  0    Yelp\n",
       "\n",
       "[3000 rows x 3 columns]"
      ]
     },
     "execution_count": 8,
     "metadata": {},
     "output_type": "execute_result"
    }
   ],
   "source": [
    "df = pd.concat([df_part1,df_part2,df_part3], ignore_index=True)\n",
    "df"
   ]
  },
  {
   "cell_type": "code",
   "execution_count": 9,
   "id": "ce41f4cf-8c92-4ff5-bdb3-9ff3ad9256b7",
   "metadata": {},
   "outputs": [
    {
     "data": {
      "text/html": [
       "<div>\n",
       "<style scoped>\n",
       "    .dataframe tbody tr th:only-of-type {\n",
       "        vertical-align: middle;\n",
       "    }\n",
       "\n",
       "    .dataframe tbody tr th {\n",
       "        vertical-align: top;\n",
       "    }\n",
       "\n",
       "    .dataframe thead th {\n",
       "        text-align: right;\n",
       "    }\n",
       "</style>\n",
       "<table border=\"1\" class=\"dataframe\">\n",
       "  <thead>\n",
       "    <tr style=\"text-align: right;\">\n",
       "      <th></th>\n",
       "      <th>text</th>\n",
       "      <th>label</th>\n",
       "      <th>source</th>\n",
       "    </tr>\n",
       "  </thead>\n",
       "  <tbody>\n",
       "    <tr>\n",
       "      <th>0</th>\n",
       "      <td>So there is no way for me to plug it in here i...</td>\n",
       "      <td>0</td>\n",
       "      <td>Amazon</td>\n",
       "    </tr>\n",
       "    <tr>\n",
       "      <th>1</th>\n",
       "      <td>Good case, Excellent value.</td>\n",
       "      <td>1</td>\n",
       "      <td>Amazon</td>\n",
       "    </tr>\n",
       "    <tr>\n",
       "      <th>2</th>\n",
       "      <td>Great for the jawbone.</td>\n",
       "      <td>1</td>\n",
       "      <td>Amazon</td>\n",
       "    </tr>\n",
       "    <tr>\n",
       "      <th>3</th>\n",
       "      <td>Tied to charger for conversations lasting more...</td>\n",
       "      <td>0</td>\n",
       "      <td>Amazon</td>\n",
       "    </tr>\n",
       "    <tr>\n",
       "      <th>4</th>\n",
       "      <td>The mic is great.</td>\n",
       "      <td>1</td>\n",
       "      <td>Amazon</td>\n",
       "    </tr>\n",
       "    <tr>\n",
       "      <th>...</th>\n",
       "      <td>...</td>\n",
       "      <td>...</td>\n",
       "      <td>...</td>\n",
       "    </tr>\n",
       "    <tr>\n",
       "      <th>2995</th>\n",
       "      <td>I think food should have flavor and texture an...</td>\n",
       "      <td>0</td>\n",
       "      <td>Yelp</td>\n",
       "    </tr>\n",
       "    <tr>\n",
       "      <th>2996</th>\n",
       "      <td>Appetite instantly gone.</td>\n",
       "      <td>0</td>\n",
       "      <td>Yelp</td>\n",
       "    </tr>\n",
       "    <tr>\n",
       "      <th>2997</th>\n",
       "      <td>Overall I was not impressed and would not go b...</td>\n",
       "      <td>0</td>\n",
       "      <td>Yelp</td>\n",
       "    </tr>\n",
       "    <tr>\n",
       "      <th>2998</th>\n",
       "      <td>The whole experience was underwhelming, and I ...</td>\n",
       "      <td>0</td>\n",
       "      <td>Yelp</td>\n",
       "    </tr>\n",
       "    <tr>\n",
       "      <th>2999</th>\n",
       "      <td>Then, as if I hadn't wasted enough of my life ...</td>\n",
       "      <td>0</td>\n",
       "      <td>Yelp</td>\n",
       "    </tr>\n",
       "  </tbody>\n",
       "</table>\n",
       "<p>3000 rows × 3 columns</p>\n",
       "</div>"
      ],
      "text/plain": [
       "                                                   text  label  source\n",
       "0     So there is no way for me to plug it in here i...      0  Amazon\n",
       "1                           Good case, Excellent value.      1  Amazon\n",
       "2                                Great for the jawbone.      1  Amazon\n",
       "3     Tied to charger for conversations lasting more...      0  Amazon\n",
       "4                                     The mic is great.      1  Amazon\n",
       "...                                                 ...    ...     ...\n",
       "2995  I think food should have flavor and texture an...      0    Yelp\n",
       "2996                           Appetite instantly gone.      0    Yelp\n",
       "2997  Overall I was not impressed and would not go b...      0    Yelp\n",
       "2998  The whole experience was underwhelming, and I ...      0    Yelp\n",
       "2999  Then, as if I hadn't wasted enough of my life ...      0    Yelp\n",
       "\n",
       "[3000 rows x 3 columns]"
      ]
     },
     "execution_count": 9,
     "metadata": {},
     "output_type": "execute_result"
    }
   ],
   "source": [
    "df.columns=['text','label','source']\n",
    "df"
   ]
  },
  {
   "cell_type": "markdown",
   "id": "a1e731d0-b07b-4727-bed2-150cc0d792e3",
   "metadata": {},
   "source": [
    "##### Convert the label column to int"
   ]
  },
  {
   "cell_type": "code",
   "execution_count": 10,
   "id": "55c52b44-4c00-4b3f-8f21-6b4420b55761",
   "metadata": {},
   "outputs": [],
   "source": [
    "df.label = df.label.astype(int)"
   ]
  },
  {
   "cell_type": "code",
   "execution_count": 11,
   "id": "8b71a2f5-1fa1-4eaf-bcd6-0788225f7946",
   "metadata": {},
   "outputs": [
    {
     "name": "stdout",
     "output_type": "stream",
     "text": [
      "<class 'pandas.core.frame.DataFrame'>\n",
      "RangeIndex: 3000 entries, 0 to 2999\n",
      "Data columns (total 3 columns):\n",
      " #   Column  Non-Null Count  Dtype \n",
      "---  ------  --------------  ----- \n",
      " 0   text    3000 non-null   object\n",
      " 1   label   3000 non-null   int32 \n",
      " 2   source  3000 non-null   object\n",
      "dtypes: int32(1), object(2)\n",
      "memory usage: 58.7+ KB\n"
     ]
    }
   ],
   "source": [
    "df.info()"
   ]
  },
  {
   "cell_type": "markdown",
   "id": "57b9fd5e-73b9-41ad-930d-56de8b132bfb",
   "metadata": {},
   "source": [
    "### Data Preperation\n",
    "- Remove stopwords\n",
    "     - Words that have high frequency but carry little meaning (the, a, and, or, etc...)\n",
    "- Remove special characters\n",
    "- Transform reviews to be all lowercase characters"
   ]
  },
  {
   "cell_type": "code",
   "execution_count": 12,
   "id": "449f9e50-8e1f-4d69-9250-1ae9937bda60",
   "metadata": {},
   "outputs": [],
   "source": [
    "# natural language toolkit\n",
    "import nltk\n",
    "## nltk.download('stopwords')"
   ]
  },
  {
   "cell_type": "code",
   "execution_count": 13,
   "id": "261ae219-b651-46a0-8388-a4aace55200b",
   "metadata": {},
   "outputs": [],
   "source": [
    "from nltk.corpus import stopwords #standard english stopwords\n",
    "\n",
    "stopWords = set(stopwords.words('english'))"
   ]
  },
  {
   "cell_type": "markdown",
   "id": "5cbaf6c8-94b5-440d-a954-aff02da7ccb9",
   "metadata": {},
   "source": [
    "- Apply: Applies the lambda function to each element of the text column\n",
    "- Lambda function: Takes each element in the text column, and splits it into individual words\n",
    "    - Loops through each word in the text and removes it if it is in the stopwords set.\n",
    "    - The lambda function then joins back together all the words after the stopwords have been removed (using the join function)"
   ]
  },
  {
   "cell_type": "code",
   "execution_count": 14,
   "id": "f3ef9362-c596-4bd5-abff-baeefbece7a5",
   "metadata": {},
   "outputs": [],
   "source": [
    "\n",
    "df.text = df.text.apply(lambda x: ' '.join([word for word in x.split() \n",
    "                                        if word.lower() not in stopWords]))"
   ]
  },
  {
   "cell_type": "markdown",
   "id": "60185bbe-739d-4b4f-abf9-9fd561c1c574",
   "metadata": {},
   "source": [
    "##### Remove Special Characeters\n",
    "- Removes punctuation, emojis, etc...\n",
    "- Loops through each text record in the dataframe, then loops through each character in the text and adds the character if it does not already exist in the list\n",
    "- Essentially, the code below is creating a distinct list of all the characters that are used in the reviews we imported"
   ]
  },
  {
   "cell_type": "code",
   "execution_count": 15,
   "id": "c7b8da9a-edcf-4385-8613-580fc34931cd",
   "metadata": {},
   "outputs": [
    {
     "name": "stdout",
     "output_type": "stream",
     "text": [
      "['w', 'a', 'y', ' ', 'p', 'l', 'u', 'g', 'U', 'S', 'n', 'e', 's', 'o', 'c', 'v', 'r', 't', '.', 'G', 'd', ',', 'E', 'x', 'j', 'b', 'T', 'i', 'h', '4', '5', 'm', 'M', 'A', 'J', 'O', 'R', 'P', 'B', 'L', '!', 'z', 'f', 'N', 'q', '+', '\"', 'H', 'V', 'Y', 'F', 'D', 'W', 'k', \"'\", 'K', 'C', '/', 'I', '7', '3', '6', '8', '0', '2', '?', 'Z', '-', '1', ':', ')', '(', 'Q', '&', '$', '*', ';', 'X', '%', '9', '#', '[', ']', '\\x96', 'é', 'å', '\\x97', 'ê']\n"
     ]
    }
   ],
   "source": [
    "#list all characters\n",
    "characters = []\n",
    "for review in df.text:\n",
    "    for character in review:\n",
    "        if character not in characters:\n",
    "            characters.append(character)\n",
    "print(characters)"
   ]
  },
  {
   "cell_type": "markdown",
   "id": "7feb91e4-c5bf-4005-b612-e30f5167f66b",
   "metadata": {},
   "source": [
    "##### Convert text to unicode"
   ]
  },
  {
   "cell_type": "code",
   "execution_count": 16,
   "id": "285f1377-66ce-4b24-9702-00b8bcda30fa",
   "metadata": {},
   "outputs": [],
   "source": [
    "from unidecode import unidecode\n",
    "\n",
    "df.text = df.text.apply(unidecode)"
   ]
  },
  {
   "cell_type": "code",
   "execution_count": 17,
   "id": "e33c25b6-ac0c-44c0-a7e1-d5647de476ee",
   "metadata": {},
   "outputs": [
    {
     "name": "stdout",
     "output_type": "stream",
     "text": [
      "['w', 'a', 'y', ' ', 'p', 'l', 'u', 'g', 'U', 'S', 'n', 'e', 's', 'o', 'c', 'v', 'r', 't', '.', 'G', 'd', ',', 'E', 'x', 'j', 'b', 'T', 'i', 'h', '4', '5', 'm', 'M', 'A', 'J', 'O', 'R', 'P', 'B', 'L', '!', 'z', 'f', 'N', 'q', '+', '\"', 'H', 'V', 'Y', 'F', 'D', 'W', 'k', \"'\", 'K', 'C', '/', 'I', '7', '3', '6', '8', '0', '2', '?', 'Z', '-', '1', ':', ')', '(', 'Q', '&', '$', '*', ';', 'X', '%', '9', '#', '[', ']']\n"
     ]
    }
   ],
   "source": [
    "#list all characters\n",
    "characters = []\n",
    "for review in df.text:\n",
    "    for character in review:\n",
    "        if character not in characters:\n",
    "            characters.append(character)\n",
    "print(characters)"
   ]
  },
  {
   "cell_type": "markdown",
   "id": "c344d395-2843-4af0-ba89-2dac5d6631dc",
   "metadata": {},
   "source": [
    "##### Replace special characters with a space\n",
    "- regex=True: Treats the expression as a regular expression\n",
    "- [^0-9a-zA-Z ] is an expression that matches any character that is not a digit (0-9), a lowercase letter (a-z) or an uppercase letter (A-Z), or a space."
   ]
  },
  {
   "cell_type": "code",
   "execution_count": 18,
   "id": "e463834d-5f03-49d0-8a2e-b13222c295de",
   "metadata": {},
   "outputs": [],
   "source": [
    "df.text = df.text.replace(r'[^0-9a-zA-Z ]', ' ', regex=True)"
   ]
  },
  {
   "cell_type": "markdown",
   "id": "3a0bb27e-5f81-4e00-a0f1-e13e15898dcc",
   "metadata": {},
   "source": [
    "##### Transform text to all lowercase\n",
    "- Typically, with sentiment analysis, it might be best to leave the case as it is, however, since we don't have a lot data, it's best to convert it all to lowercase to align cardinality\n",
    "- This allows us to minimize unique words to find patterns"
   ]
  },
  {
   "cell_type": "code",
   "execution_count": 19,
   "id": "a618f6fb-6214-4eda-9f72-d543aa04481e",
   "metadata": {},
   "outputs": [
    {
     "data": {
      "text/plain": [
       "0                        way plug us unless go converter \n",
       "1                             good case  excellent value \n",
       "2                                          great jawbone \n",
       "3       tied charger conversations lasting 45 minutes ...\n",
       "4                                              mic great \n",
       "                              ...                        \n",
       "2995                   think food flavor texture lacking \n",
       "2996                             appetite instantly gone \n",
       "2997                     overall impressed would go back \n",
       "2998    whole experience underwhelming  think we ll go...\n",
       "2999    then  wasted enough life there  poured salt wo...\n",
       "Name: text, Length: 3000, dtype: object"
      ]
     },
     "execution_count": 19,
     "metadata": {},
     "output_type": "execute_result"
    }
   ],
   "source": [
    "df.text = df.text.str.lower()\n",
    "df.text"
   ]
  },
  {
   "cell_type": "markdown",
   "id": "8f87547b-982c-4b49-b631-6bda34516219",
   "metadata": {},
   "source": [
    "##### WordNetLemmatizer is used to lemmatize words, which is the process of reducing words to their base or dictionary form, known as the lemma\n",
    "- For Example: \"Cats\" can be reduced to the base form \"Cat\""
   ]
  },
  {
   "cell_type": "code",
   "execution_count": 20,
   "id": "70673c9c-b452-43cb-824d-5f6787e12b74",
   "metadata": {},
   "outputs": [],
   "source": [
    "from nltk.stem import WordNetLemmatizer #word grouping\n",
    "### tokenize / lamatize\n",
    "wnl = WordNetLemmatizer()"
   ]
  },
  {
   "cell_type": "markdown",
   "id": "5b2b1f37-0b52-4275-bb4a-f49ab4a10642",
   "metadata": {},
   "source": [
    "##### word_tokenize() is used to split a text string into individual words based on whitespace and punctuation"
   ]
  },
  {
   "cell_type": "code",
   "execution_count": 21,
   "id": "96929566-350d-4132-86b1-f69fd78a4332",
   "metadata": {},
   "outputs": [],
   "source": [
    "#custom function to lemmatize each tokenized word\n",
    "from nltk.tokenize import word_tokenize\n",
    "\n",
    "def lemmatize_text(text):\n",
    "    return [wnl.lemmatize(w) for w in word_tokenize(text)]"
   ]
  },
  {
   "cell_type": "code",
   "execution_count": 22,
   "id": "74a949d3-b473-4d17-89c5-027954c9519e",
   "metadata": {},
   "outputs": [],
   "source": [
    "# One time download\n",
    "# nltk.download('punkt')\n",
    "# nltk.download('wordnet')"
   ]
  },
  {
   "cell_type": "markdown",
   "id": "9f664682-7c00-453d-b74a-2bdb5b05da3d",
   "metadata": {},
   "source": [
    "- Call the custom function that was created above and apply it to each review in the dataframe\n",
    "- The function will return a list of the simplified/lemmatized words"
   ]
  },
  {
   "cell_type": "code",
   "execution_count": 23,
   "id": "60bf8b6d-3a8c-4475-86fb-4b87d2b9ebe7",
   "metadata": {},
   "outputs": [],
   "source": [
    "#apply function to each row in text column\n",
    "df.text = df.text.apply(lemmatize_text) "
   ]
  },
  {
   "cell_type": "code",
   "execution_count": 24,
   "id": "364749bb-8141-4eac-85c7-c19ec9c2ea88",
   "metadata": {},
   "outputs": [
    {
     "data": {
      "text/plain": [
       "0                   [way, plug, u, unless, go, converter]\n",
       "1                          [good, case, excellent, value]\n",
       "2                                        [great, jawbone]\n",
       "3       [tied, charger, conversation, lasting, 45, min...\n",
       "4                                            [mic, great]\n",
       "                              ...                        \n",
       "2995              [think, food, flavor, texture, lacking]\n",
       "2996                          [appetite, instantly, gone]\n",
       "2997                [overall, impressed, would, go, back]\n",
       "2998    [whole, experience, underwhelming, think, we, ...\n",
       "2999    [then, wasted, enough, life, there, poured, sa...\n",
       "Name: text, Length: 3000, dtype: object"
      ]
     },
     "execution_count": 24,
     "metadata": {},
     "output_type": "execute_result"
    }
   ],
   "source": [
    "df.text"
   ]
  },
  {
   "cell_type": "markdown",
   "id": "72665bc9-8f87-42a1-bc88-1ede5d4a49ef",
   "metadata": {},
   "source": [
    "##### Recreate the sentence"
   ]
  },
  {
   "cell_type": "code",
   "execution_count": 25,
   "id": "372e7270-bcc3-421c-98e8-66d15c86b1fb",
   "metadata": {},
   "outputs": [
    {
     "data": {
      "text/plain": [
       "0                          way plug u unless go converter\n",
       "1                               good case excellent value\n",
       "2                                           great jawbone\n",
       "3       tied charger conversation lasting 45 minute ma...\n",
       "4                                               mic great\n",
       "                              ...                        \n",
       "2995                    think food flavor texture lacking\n",
       "2996                              appetite instantly gone\n",
       "2997                      overall impressed would go back\n",
       "2998    whole experience underwhelming think we ll go ...\n",
       "2999    then wasted enough life there poured salt woun...\n",
       "Name: text, Length: 3000, dtype: object"
      ]
     },
     "execution_count": 25,
     "metadata": {},
     "output_type": "execute_result"
    }
   ],
   "source": [
    "#recreates sentence\n",
    "df.text = df.text.str.join(' ')\n",
    "df.text"
   ]
  },
  {
   "cell_type": "markdown",
   "id": "38e0fa87-065c-408e-a7f1-2f931177fe49",
   "metadata": {},
   "source": [
    "fit_on_text: Takes df.text creates a vocab index based on word frequency\n",
    "- The higher the index, the less often the word is used\n",
    "- Removing the stopwords helps with this process so that we don't get meaningless words as a low index"
   ]
  },
  {
   "cell_type": "code",
   "execution_count": 26,
   "id": "c7480491-4870-45e3-b2cf-697ed0d8ffc7",
   "metadata": {},
   "outputs": [],
   "source": [
    "from tensorflow.keras.preprocessing.text import Tokenizer\n",
    "###retokenize with keras\n",
    "tokenizer = Tokenizer()\n",
    "tokenizer.fit_on_texts(df.text)\n",
    "# print(tokenizer.word_index)"
   ]
  },
  {
   "cell_type": "code",
   "execution_count": 27,
   "id": "0f5de593-c4b3-4c3e-9d39-65f3c6fc19a5",
   "metadata": {},
   "outputs": [
    {
     "data": {
      "text/plain": [
       "4742"
      ]
     },
     "execution_count": 27,
     "metadata": {},
     "output_type": "execute_result"
    }
   ],
   "source": [
    "###Get vocabulary size\n",
    "vocab_size = len(tokenizer.word_index)+1 \n",
    "vocab_size"
   ]
  },
  {
   "cell_type": "markdown",
   "id": "4335fba7-f5c8-485d-92c7-3fd00054b936",
   "metadata": {},
   "source": [
    "- Calculates the number of words in each review (row in dataframe)\n",
    "- Found the max, min, and median"
   ]
  },
  {
   "cell_type": "code",
   "execution_count": 28,
   "id": "6fc32b37-e71c-4a19-b76f-cbca7972fa99",
   "metadata": {},
   "outputs": [
    {
     "name": "stdout",
     "output_type": "stream",
     "text": [
      "Maximum: 46\n",
      "Minimum: 1\n",
      "Median: 5.0\n"
     ]
    }
   ],
   "source": [
    "import numpy as np\n",
    "#get max word length\n",
    "comment_lengths = []\n",
    "for words in df.text:\n",
    "        comment_lengths.append(len(words.split(' ')))\n",
    "        \n",
    "maxlen = np.max(comment_lengths)\n",
    "min = np.min(comment_lengths)\n",
    "med = np.median(comment_lengths)\n",
    "print (\"Maximum: \" + str(maxlen))\n",
    "print (\"Minimum: \" + str(min))\n",
    "print (\"Median: \" + str(med))"
   ]
  },
  {
   "cell_type": "code",
   "execution_count": 29,
   "id": "44e497dc-2636-4cb7-8b82-7bdf2b9873ff",
   "metadata": {},
   "outputs": [
    {
     "data": {
      "text/plain": [
       "array([[<Axes: title={'center': '0'}>]], dtype=object)"
      ]
     },
     "execution_count": 29,
     "metadata": {},
     "output_type": "execute_result"
    },
    {
     "data": {
      "image/png": "[encoded data removed]",
      "text/plain": [
       "<Figure size 640x480 with 1 Axes>"
      ]
     },
     "metadata": {},
     "output_type": "display_data"
    }
   ],
   "source": [
    "df2 = pd.DataFrame(comment_lengths)\n",
    "df2.hist()"
   ]
  },
  {
   "cell_type": "markdown",
   "id": "9aa8e4fa-1c76-4b1f-95ce-8988e056d3fd",
   "metadata": {},
   "source": [
    "##### Calculate the sequence length for padding by taking the 4th root of the vocabulary length"
   ]
  },
  {
   "cell_type": "code",
   "execution_count": 30,
   "id": "3176c21b-625b-486a-b835-5a5b63ef5fc6",
   "metadata": {},
   "outputs": [
    {
     "data": {
      "text/plain": [
       "8"
      ]
     },
     "execution_count": 30,
     "metadata": {},
     "output_type": "execute_result"
    }
   ],
   "source": [
    "fourthroot = int(round(np.sqrt(np.sqrt(vocab_size)), 0))\n",
    "fourthroot"
   ]
  },
  {
   "cell_type": "markdown",
   "id": "d57d324c-de8f-415b-b0b2-d324d17718ef",
   "metadata": {},
   "source": [
    "### Padding Process\n",
    "- Purpose is to build a data set where all rows have the same shape and structure\n",
    "- Adds spaces for text that does not have a length of 8 words/spaces and truncates extra words/spaces for reviews that have a length greater than 8 words\n",
    "- Ideal sequence length is 8\n",
    "- text_to_sequences: Converts a list of text into a sequence of integers\n",
    "- pad_sequences: Performs padding and truncating of sequences"
   ]
  },
  {
   "cell_type": "code",
   "execution_count": 31,
   "id": "8ff1dc0a-2724-4d9d-bdf0-ffe7b7e1d3df",
   "metadata": {},
   "outputs": [],
   "source": [
    "from tensorflow.keras.preprocessing.sequence import pad_sequences\n",
    "\n",
    "#pad text\n",
    "sequences = tokenizer.texts_to_sequences(df.text) #embed as dense vectors\n",
    "padded = pad_sequences(sequences, padding='post', truncating='post', maxlen=fourthroot) \n",
    "df['padded'] = pd.Series(list(padded))"
   ]
  },
  {
   "cell_type": "code",
   "execution_count": 32,
   "id": "de12b2be-51ab-4063-a9b5-815915a8463c",
   "metadata": {},
   "outputs": [
    {
     "data": {
      "text/plain": [
       "0              [46, 270, 110, 504, 25, 2109, 0, 0]\n",
       "1                     [1, 62, 36, 334, 0, 0, 0, 0]\n",
       "2                      [3, 1013, 0, 0, 0, 0, 0, 0]\n",
       "3       [2110, 136, 672, 1014, 1383, 63, 1384, 84]\n",
       "4                       [803, 3, 0, 0, 0, 0, 0, 0]\n",
       "                           ...                    \n",
       "2995             [48, 12, 269, 1331, 613, 0, 0, 0]\n",
       "2996              [4737, 4738, 937, 0, 0, 0, 0, 0]\n",
       "2997               [192, 169, 19, 25, 24, 0, 0, 0]\n",
       "2998       [282, 88, 1998, 48, 397, 176, 25, 4739]\n",
       "2999    [1322, 360, 67, 93, 126, 4740, 1343, 4741]\n",
       "Name: padded, Length: 3000, dtype: object"
      ]
     },
     "execution_count": 32,
     "metadata": {},
     "output_type": "execute_result"
    }
   ],
   "source": [
    "df.padded"
   ]
  },
  {
   "cell_type": "markdown",
   "id": "f24946ed-b588-4931-9854-3b3df24391e0",
   "metadata": {},
   "source": [
    "##### Since the label only includes 0 (negative) or 1 (positive), the final layer of neural network will be dense with 2 nodes"
   ]
  },
  {
   "cell_type": "code",
   "execution_count": 33,
   "id": "f1cfdc37-315d-4c41-a810-9534967f4a9c",
   "metadata": {},
   "outputs": [
    {
     "data": {
      "text/plain": [
       "<Axes: xlabel='label', ylabel='count'>"
      ]
     },
     "execution_count": 33,
     "metadata": {},
     "output_type": "execute_result"
    },
    {
     "data": {
      "image/png": "[encoded data removed]",
      "text/plain": [
       "<Figure size 640x480 with 1 Axes>"
      ]
     },
     "metadata": {},
     "output_type": "display_data"
    }
   ],
   "source": [
    "import seaborn as sns\n",
    "\n",
    "#confirm sentiment distribution\n",
    "sns.countplot(data=df, x='label',hue=df.source)"
   ]
  },
  {
   "cell_type": "markdown",
   "id": "343542fa-6651-404e-ab23-92a088f56669",
   "metadata": {},
   "source": [
    "##### Set the X and y variables"
   ]
  },
  {
   "cell_type": "code",
   "execution_count": 34,
   "id": "7414d074-7e8b-4b8d-bbce-a6befa52b212",
   "metadata": {},
   "outputs": [],
   "source": [
    "from tensorflow.keras.utils import to_categorical # target encoding\n",
    "\n",
    "#set x and y\n",
    "X = padded\n",
    "y = to_categorical(df.label)"
   ]
  },
  {
   "cell_type": "markdown",
   "id": "b8e7a704-bcd0-4156-b08d-110ef26f972f",
   "metadata": {},
   "source": [
    "##### Split dataset into train and test\n",
    "- 80/20 split\n",
    "- Stratify sampling: Ensures that the categories in a dataset is preserved in the training and testing set"
   ]
  },
  {
   "cell_type": "code",
   "execution_count": 35,
   "id": "a3663997-0a7a-4b8c-a955-0ce9f7e26781",
   "metadata": {},
   "outputs": [],
   "source": [
    "from sklearn.model_selection import train_test_split #for data split\n",
    "\n",
    "#perform split\n",
    "X_train, X_test, y_train, y_test = train_test_split(X, y, test_size=.2, random_state = 1, stratify = y)"
   ]
  },
  {
   "cell_type": "code",
   "execution_count": 36,
   "id": "fd3ef5eb-489f-41f0-bd22-adcc52a1cdb8",
   "metadata": {},
   "outputs": [
    {
     "name": "stdout",
     "output_type": "stream",
     "text": [
      "(2400, 8)\n",
      "(600, 8)\n"
     ]
    }
   ],
   "source": [
    "print(X_train.shape)\n",
    "print(X_test.shape) "
   ]
  },
  {
   "cell_type": "markdown",
   "id": "e79eae53-5071-49df-8191-c3acdbf15c93",
   "metadata": {},
   "source": [
    "## Part 2"
   ]
  },
  {
   "cell_type": "markdown",
   "id": "b209667e-232c-4304-bfb1-b75b8fd8fd46",
   "metadata": {},
   "source": [
    "- Embedding Length: Size or dimensionality of the embedding layer, which is used to map discrete input features and reconstruct the successive phase\n",
    "     - A 3D space created to help the model catch how closely word usage cluster together\n",
    "     - Typically, the length of the embedding length is between 100-300, but should be 50 as a minimum"
   ]
  },
  {
   "cell_type": "code",
   "execution_count": 37,
   "id": "c20dc4c4-f7f8-45b2-99d2-7528b93899ac",
   "metadata": {},
   "outputs": [],
   "source": [
    "##propose embedding length\n",
    "embedlen = 50"
   ]
  },
  {
   "cell_type": "markdown",
   "id": "89670903-21ba-42bd-9278-ac50eca29847",
   "metadata": {},
   "source": [
    "**EarlyStopping:** Used to monitor the training of a neural network and stop the training process if conditions are met to prevent overfitting. \n",
    "- patient=2: The training will stop if the model's performance of the validation dataset does not improve for 2 consecutive epochs (a complete pass through of the entire training dataset during the training phase)."
   ]
  },
  {
   "cell_type": "code",
   "execution_count": 38,
   "id": "306c47e0-e11c-475e-88b4-2cf90c371495",
   "metadata": {},
   "outputs": [],
   "source": [
    "from tensorflow.keras.callbacks import EarlyStopping #to optimize efficently\n",
    "### initial model architecture\n",
    "#set patience for early stopping\n",
    "early_stopping_monitor = EarlyStopping(patience=2)"
   ]
  },
  {
   "cell_type": "markdown",
   "id": "ab21cf53-f0da-4632-93c0-14b840c0bfe0",
   "metadata": {},
   "source": [
    "**Model Specifics:**\n",
    "- Sequential model where layers are added sequentially\n",
    "- First layer is the embedding layer\n",
    "- Second layer is the dropout layer for regularization\n",
    "   - This is to help prevent overfitting by turning off the neurons in the hidden layers  \n",
    "- Third layer is a flatten layer to transform the 2D output into a 1D vector\n",
    "- Fourth layer is a dense layer with 50 units and relu activation\n",
    "   - Find more convoluted relationships with their complex connectivity\n",
    "   - The ReLU (Rectified Linear Unit) introduced non-linearity into the network by adding only positive weights to the prediction\n",
    "   - The dense layer is fully connected allowing neurons to connect to every neuron in the previous layer\n",
    "- Fifth layer is another dropout layer\n",
    "- Last layer is an output layer with 2 units and a sigmoid activation for binary classification\n",
    "   - Sigmoid maps input values to a value between 0 and 1, which is what we are expecting as our output (negative or positive sentiment)\n",
    "- The model is compiled with the Adam optimizer and accuracy as the metric\n",
    "   - Adam optimizer stands for adaptive moment estimation optimizer that allows for an adaptive learning rate and is robust to different types of data and structures.\n",
    "   - Binary Cross Entropy: Measures the dissimilarity between the actual labels and the predicted probabilities of the data points being in the positive class\n",
    "- Epochs: 20 iterations of the model (default is 10 epochs)"
   ]
  },
  {
   "cell_type": "code",
   "execution_count": 52,
   "id": "29bd2af8-28f3-4bdf-86c5-d7af7e388886",
   "metadata": {},
   "outputs": [
    {
     "name": "stdout",
     "output_type": "stream",
     "text": [
      "Epoch 1/20\n",
      "\u001b[1m75/75\u001b[0m \u001b[32m━━━━━━━━━━━━━━━━━━━━\u001b[0m\u001b[37m\u001b[0m \u001b[1m1s\u001b[0m 4ms/step - accuracy: 0.5114 - loss: 0.6915 - val_accuracy: 0.6183 - val_loss: 0.6770\n",
      "Epoch 2/20\n",
      "\u001b[1m75/75\u001b[0m \u001b[32m━━━━━━━━━━━━━━━━━━━━\u001b[0m\u001b[37m\u001b[0m \u001b[1m0s\u001b[0m 3ms/step - accuracy: 0.7561 - loss: 0.6315 - val_accuracy: 0.7467 - val_loss: 0.5431\n"
     ]
    },
    {
     "data": {
      "text/html": [
       "<pre style=\"white-space:pre;overflow-x:auto;line-height:normal;font-family:Menlo,'DejaVu Sans Mono',consolas,'Courier New',monospace\"><span style=\"font-weight: bold\">Model: \"sequential_7\"</span>\n",
       "</pre>\n"
      ],
      "text/plain": [
       "\u001b[1mModel: \"sequential_7\"\u001b[0m\n"
      ]
     },
     "metadata": {},
     "output_type": "display_data"
    },
    {
     "data": {
      "text/html": [
       "<pre style=\"white-space:pre;overflow-x:auto;line-height:normal;font-family:Menlo,'DejaVu Sans Mono',consolas,'Courier New',monospace\">┏━━━━━━━━━━━━━━━━━━━━━━━━━━━━━━━━━━━━━━┳━━━━━━━━━━━━━━━━━━━━━━━━━━━━━┳━━━━━━━━━━━━━━━━━┓\n",
       "┃<span style=\"font-weight: bold\"> Layer (type)                         </span>┃<span style=\"font-weight: bold\"> Output Shape                </span>┃<span style=\"font-weight: bold\">         Param # </span>┃\n",
       "┡━━━━━━━━━━━━━━━━━━━━━━━━━━━━━━━━━━━━━━╇━━━━━━━━━━━━━━━━━━━━━━━━━━━━━╇━━━━━━━━━━━━━━━━━┩\n",
       "│ embedding_7 (<span style=\"color: #0087ff; text-decoration-color: #0087ff\">Embedding</span>)              │ (<span style=\"color: #00af00; text-decoration-color: #00af00\">32</span>, <span style=\"color: #00af00; text-decoration-color: #00af00\">8</span>, <span style=\"color: #00af00; text-decoration-color: #00af00\">150</span>)                │         <span style=\"color: #00af00; text-decoration-color: #00af00\">711,300</span> │\n",
       "├──────────────────────────────────────┼─────────────────────────────┼─────────────────┤\n",
       "│ dropout_17 (<span style=\"color: #0087ff; text-decoration-color: #0087ff\">Dropout</span>)                 │ (<span style=\"color: #00af00; text-decoration-color: #00af00\">32</span>, <span style=\"color: #00af00; text-decoration-color: #00af00\">8</span>, <span style=\"color: #00af00; text-decoration-color: #00af00\">150</span>)                │               <span style=\"color: #00af00; text-decoration-color: #00af00\">0</span> │\n",
       "├──────────────────────────────────────┼─────────────────────────────┼─────────────────┤\n",
       "│ flatten_5 (<span style=\"color: #0087ff; text-decoration-color: #0087ff\">Flatten</span>)                  │ (<span style=\"color: #00af00; text-decoration-color: #00af00\">32</span>, <span style=\"color: #00af00; text-decoration-color: #00af00\">1200</span>)                  │               <span style=\"color: #00af00; text-decoration-color: #00af00\">0</span> │\n",
       "├──────────────────────────────────────┼─────────────────────────────┼─────────────────┤\n",
       "│ dropout_18 (<span style=\"color: #0087ff; text-decoration-color: #0087ff\">Dropout</span>)                 │ (<span style=\"color: #00af00; text-decoration-color: #00af00\">32</span>, <span style=\"color: #00af00; text-decoration-color: #00af00\">1200</span>)                  │               <span style=\"color: #00af00; text-decoration-color: #00af00\">0</span> │\n",
       "├──────────────────────────────────────┼─────────────────────────────┼─────────────────┤\n",
       "│ dense_14 (<span style=\"color: #0087ff; text-decoration-color: #0087ff\">Dense</span>)                     │ (<span style=\"color: #00af00; text-decoration-color: #00af00\">32</span>, <span style=\"color: #00af00; text-decoration-color: #00af00\">50</span>)                    │          <span style=\"color: #00af00; text-decoration-color: #00af00\">60,050</span> │\n",
       "├──────────────────────────────────────┼─────────────────────────────┼─────────────────┤\n",
       "│ dropout_19 (<span style=\"color: #0087ff; text-decoration-color: #0087ff\">Dropout</span>)                 │ (<span style=\"color: #00af00; text-decoration-color: #00af00\">32</span>, <span style=\"color: #00af00; text-decoration-color: #00af00\">50</span>)                    │               <span style=\"color: #00af00; text-decoration-color: #00af00\">0</span> │\n",
       "├──────────────────────────────────────┼─────────────────────────────┼─────────────────┤\n",
       "│ dense_15 (<span style=\"color: #0087ff; text-decoration-color: #0087ff\">Dense</span>)                     │ (<span style=\"color: #00af00; text-decoration-color: #00af00\">32</span>, <span style=\"color: #00af00; text-decoration-color: #00af00\">2</span>)                     │             <span style=\"color: #00af00; text-decoration-color: #00af00\">102</span> │\n",
       "└──────────────────────────────────────┴─────────────────────────────┴─────────────────┘\n",
       "</pre>\n"
      ],
      "text/plain": [
       "┏━━━━━━━━━━━━━━━━━━━━━━━━━━━━━━━━━━━━━━┳━━━━━━━━━━━━━━━━━━━━━━━━━━━━━┳━━━━━━━━━━━━━━━━━┓\n",
       "┃\u001b[1m \u001b[0m\u001b[1mLayer (type)                        \u001b[0m\u001b[1m \u001b[0m┃\u001b[1m \u001b[0m\u001b[1mOutput Shape               \u001b[0m\u001b[1m \u001b[0m┃\u001b[1m \u001b[0m\u001b[1m        Param #\u001b[0m\u001b[1m \u001b[0m┃\n",
       "┡━━━━━━━━━━━━━━━━━━━━━━━━━━━━━━━━━━━━━━╇━━━━━━━━━━━━━━━━━━━━━━━━━━━━━╇━━━━━━━━━━━━━━━━━┩\n",
       "│ embedding_7 (\u001b[38;5;33mEmbedding\u001b[0m)              │ (\u001b[38;5;34m32\u001b[0m, \u001b[38;5;34m8\u001b[0m, \u001b[38;5;34m150\u001b[0m)                │         \u001b[38;5;34m711,300\u001b[0m │\n",
       "├──────────────────────────────────────┼─────────────────────────────┼─────────────────┤\n",
       "│ dropout_17 (\u001b[38;5;33mDropout\u001b[0m)                 │ (\u001b[38;5;34m32\u001b[0m, \u001b[38;5;34m8\u001b[0m, \u001b[38;5;34m150\u001b[0m)                │               \u001b[38;5;34m0\u001b[0m │\n",
       "├──────────────────────────────────────┼─────────────────────────────┼─────────────────┤\n",
       "│ flatten_5 (\u001b[38;5;33mFlatten\u001b[0m)                  │ (\u001b[38;5;34m32\u001b[0m, \u001b[38;5;34m1200\u001b[0m)                  │               \u001b[38;5;34m0\u001b[0m │\n",
       "├──────────────────────────────────────┼─────────────────────────────┼─────────────────┤\n",
       "│ dropout_18 (\u001b[38;5;33mDropout\u001b[0m)                 │ (\u001b[38;5;34m32\u001b[0m, \u001b[38;5;34m1200\u001b[0m)                  │               \u001b[38;5;34m0\u001b[0m │\n",
       "├──────────────────────────────────────┼─────────────────────────────┼─────────────────┤\n",
       "│ dense_14 (\u001b[38;5;33mDense\u001b[0m)                     │ (\u001b[38;5;34m32\u001b[0m, \u001b[38;5;34m50\u001b[0m)                    │          \u001b[38;5;34m60,050\u001b[0m │\n",
       "├──────────────────────────────────────┼─────────────────────────────┼─────────────────┤\n",
       "│ dropout_19 (\u001b[38;5;33mDropout\u001b[0m)                 │ (\u001b[38;5;34m32\u001b[0m, \u001b[38;5;34m50\u001b[0m)                    │               \u001b[38;5;34m0\u001b[0m │\n",
       "├──────────────────────────────────────┼─────────────────────────────┼─────────────────┤\n",
       "│ dense_15 (\u001b[38;5;33mDense\u001b[0m)                     │ (\u001b[38;5;34m32\u001b[0m, \u001b[38;5;34m2\u001b[0m)                     │             \u001b[38;5;34m102\u001b[0m │\n",
       "└──────────────────────────────────────┴─────────────────────────────┴─────────────────┘\n"
      ]
     },
     "metadata": {},
     "output_type": "display_data"
    },
    {
     "data": {
      "text/html": [
       "<pre style=\"white-space:pre;overflow-x:auto;line-height:normal;font-family:Menlo,'DejaVu Sans Mono',consolas,'Courier New',monospace\"><span style=\"font-weight: bold\"> Total params: </span><span style=\"color: #00af00; text-decoration-color: #00af00\">2,314,358</span> (8.83 MB)\n",
       "</pre>\n"
      ],
      "text/plain": [
       "\u001b[1m Total params: \u001b[0m\u001b[38;5;34m2,314,358\u001b[0m (8.83 MB)\n"
      ]
     },
     "metadata": {},
     "output_type": "display_data"
    },
    {
     "data": {
      "text/html": [
       "<pre style=\"white-space:pre;overflow-x:auto;line-height:normal;font-family:Menlo,'DejaVu Sans Mono',consolas,'Courier New',monospace\"><span style=\"font-weight: bold\"> Trainable params: </span><span style=\"color: #00af00; text-decoration-color: #00af00\">771,452</span> (2.94 MB)\n",
       "</pre>\n"
      ],
      "text/plain": [
       "\u001b[1m Trainable params: \u001b[0m\u001b[38;5;34m771,452\u001b[0m (2.94 MB)\n"
      ]
     },
     "metadata": {},
     "output_type": "display_data"
    },
    {
     "data": {
      "text/html": [
       "<pre style=\"white-space:pre;overflow-x:auto;line-height:normal;font-family:Menlo,'DejaVu Sans Mono',consolas,'Courier New',monospace\"><span style=\"font-weight: bold\"> Non-trainable params: </span><span style=\"color: #00af00; text-decoration-color: #00af00\">0</span> (0.00 B)\n",
       "</pre>\n"
      ],
      "text/plain": [
       "\u001b[1m Non-trainable params: \u001b[0m\u001b[38;5;34m0\u001b[0m (0.00 B)\n"
      ]
     },
     "metadata": {},
     "output_type": "display_data"
    },
    {
     "data": {
      "text/html": [
       "<pre style=\"white-space:pre;overflow-x:auto;line-height:normal;font-family:Menlo,'DejaVu Sans Mono',consolas,'Courier New',monospace\"><span style=\"font-weight: bold\"> Optimizer params: </span><span style=\"color: #00af00; text-decoration-color: #00af00\">1,542,906</span> (5.89 MB)\n",
       "</pre>\n"
      ],
      "text/plain": [
       "\u001b[1m Optimizer params: \u001b[0m\u001b[38;5;34m1,542,906\u001b[0m (5.89 MB)\n"
      ]
     },
     "metadata": {},
     "output_type": "display_data"
    },
    {
     "name": "stdout",
     "output_type": "stream",
     "text": [
      "\u001b[1m19/19\u001b[0m \u001b[32m━━━━━━━━━━━━━━━━━━━━\u001b[0m\u001b[37m\u001b[0m \u001b[1m0s\u001b[0m 716us/step - accuracy: 0.7491 - loss: 0.5366\n"
     ]
    }
   ],
   "source": [
    "from tensorflow.keras.models import Sequential\n",
    "from tensorflow.keras.layers import Dense, Embedding, Bidirectional, LSTM, Dropout, Flatten #LSTM: Long short term memory\n",
    "\n",
    "### model 1\n",
    "model = Sequential() #simplest layers\n",
    "model.add(Embedding(vocab_size, embedlen, input_length=fourthroot)) #input layer\n",
    "model.add(Dropout(0.5))\n",
    "model.add(Flatten())\n",
    "model.add(Dropout(0.3))\n",
    "model.add(Dense(50,activation='relu'))\n",
    "model.add(Dropout(0.1))\n",
    "model.add(Dense(2,activation='sigmoid')) #output layer 2 nodes: positive or negative sigmoid over softmax because prediction is binary\n",
    "model.compile(optimizer='adam', loss='binary_crossentropy', metrics=['accuracy']) #compile with adam to automatically adjust learning rate #compile with binary crossentropy loss function for binary categorical prediction #show accuracy of weights during each epoch\n",
    "history = model.fit(X_train, y_train, validation_data = (X_test, y_test), epochs=20, callbacks=[early_stopping_monitor])\n",
    "model.summary() #show layers\n",
    "\n",
    "scores = model.evaluate(X_test, y_test)"
   ]
  },
  {
   "cell_type": "markdown",
   "id": "2a42ab2a-479d-4d89-a8d5-2ef485ab9568",
   "metadata": {},
   "source": [
    "### Model Evaluation:\n",
    "- Accuracy: 75.84%\n",
    "- Loss: 53.02%\n",
    "- We want the loss to be minimized as it is a measure of how well a model performs a task by comparing its predicted outputs to the actual target values "
   ]
  },
  {
   "cell_type": "markdown",
   "id": "bafa5e8c-6feb-4d92-971c-f8e9c660443b",
   "metadata": {},
   "source": [
    "**Model 2 Specifics:**\n",
    "- Starting off with a sequential model again\n",
    "- First layer is the embedding layer (same as before)\n",
    "- Second layer is the bidirectional Long Short Term Mememory (LSTM) layer where the model processes the input sequence in both forward and backwards directions\n",
    "    - This allows the model to find dependencies in the data and is typically used for sentence classification\n",
    "- Third layer is a dense layer with 50 units and relu activation (same as before)\n",
    "- Fourth layer is a dropout layer\n",
    "- Last layer is an output layer with 2 units and a sigmoid activation for binary classification (same as before)\n",
    "- The model is compiled with the Adam optimizer and accuracy as the metric, as well as the loss function being the binary_crossentropy\n",
    "   - Binary Cross Entropy: Measures the dissimilarity between the actual labels and the predicted probabilities of the data points being in the positive class\n",
    "   - Adam optimizer stands for adaptive moment estimation optimizer that allows for an adaptive learning rate and is robust to different types of data and structures.\n",
    "- Epochs: 20 iterations of the model (default is 10 epochs)"
   ]
  },
  {
   "cell_type": "code",
   "execution_count": 48,
   "id": "73e29d33-59b2-4c8a-be10-e8029f581577",
   "metadata": {},
   "outputs": [
    {
     "name": "stdout",
     "output_type": "stream",
     "text": [
      "Epoch 1/20\n",
      "\u001b[1m57/75\u001b[0m \u001b[32m━━━━━━━━━━━━━━━\u001b[0m\u001b[37m━━━━━\u001b[0m \u001b[1m0s\u001b[0m 2ms/step - accuracy: 0.9837 - loss: 0.0457"
     ]
    },
    {
     "name": "stderr",
     "output_type": "stream",
     "text": [
      "C:\\Users\\EHIDRPC\\AppData\\Local\\Programs\\Python\\Python312\\Lib\\site-packages\\keras\\src\\layers\\core\\embedding.py:90: UserWarning: Argument `input_length` is deprecated. Just remove it.\n",
      "  warnings.warn(\n"
     ]
    },
    {
     "name": "stdout",
     "output_type": "stream",
     "text": [
      "\u001b[1m75/75\u001b[0m \u001b[32m━━━━━━━━━━━━━━━━━━━━\u001b[0m\u001b[37m\u001b[0m \u001b[1m0s\u001b[0m 3ms/step - accuracy: 0.9840 - loss: 0.0454 - val_accuracy: 0.7467 - val_loss: 0.6350\n",
      "Epoch 2/20\n",
      "\u001b[1m75/75\u001b[0m \u001b[32m━━━━━━━━━━━━━━━━━━━━\u001b[0m\u001b[37m\u001b[0m \u001b[1m0s\u001b[0m 2ms/step - accuracy: 0.9887 - loss: 0.0366 - val_accuracy: 0.7500 - val_loss: 0.6584\n"
     ]
    },
    {
     "data": {
      "text/html": [
       "<pre style=\"white-space:pre;overflow-x:auto;line-height:normal;font-family:Menlo,'DejaVu Sans Mono',consolas,'Courier New',monospace\"><span style=\"font-weight: bold\">Model: \"sequential_3\"</span>\n",
       "</pre>\n"
      ],
      "text/plain": [
       "\u001b[1mModel: \"sequential_3\"\u001b[0m\n"
      ]
     },
     "metadata": {},
     "output_type": "display_data"
    },
    {
     "data": {
      "text/html": [
       "<pre style=\"white-space:pre;overflow-x:auto;line-height:normal;font-family:Menlo,'DejaVu Sans Mono',consolas,'Courier New',monospace\">┏━━━━━━━━━━━━━━━━━━━━━━━━━━━━━━━━━━━━━━┳━━━━━━━━━━━━━━━━━━━━━━━━━━━━━┳━━━━━━━━━━━━━━━━━┓\n",
       "┃<span style=\"font-weight: bold\"> Layer (type)                         </span>┃<span style=\"font-weight: bold\"> Output Shape                </span>┃<span style=\"font-weight: bold\">         Param # </span>┃\n",
       "┡━━━━━━━━━━━━━━━━━━━━━━━━━━━━━━━━━━━━━━╇━━━━━━━━━━━━━━━━━━━━━━━━━━━━━╇━━━━━━━━━━━━━━━━━┩\n",
       "│ embedding_3 (<span style=\"color: #0087ff; text-decoration-color: #0087ff\">Embedding</span>)              │ ?                           │     <span style=\"color: #00af00; text-decoration-color: #00af00\">0</span> (unbuilt) │\n",
       "├──────────────────────────────────────┼─────────────────────────────┼─────────────────┤\n",
       "│ bidirectional_1 (<span style=\"color: #0087ff; text-decoration-color: #0087ff\">Bidirectional</span>)      │ ?                           │     <span style=\"color: #00af00; text-decoration-color: #00af00\">0</span> (unbuilt) │\n",
       "├──────────────────────────────────────┼─────────────────────────────┼─────────────────┤\n",
       "│ dense_6 (<span style=\"color: #0087ff; text-decoration-color: #0087ff\">Dense</span>)                      │ ?                           │     <span style=\"color: #00af00; text-decoration-color: #00af00\">0</span> (unbuilt) │\n",
       "├──────────────────────────────────────┼─────────────────────────────┼─────────────────┤\n",
       "│ dropout_7 (<span style=\"color: #0087ff; text-decoration-color: #0087ff\">Dropout</span>)                  │ ?                           │     <span style=\"color: #00af00; text-decoration-color: #00af00\">0</span> (unbuilt) │\n",
       "├──────────────────────────────────────┼─────────────────────────────┼─────────────────┤\n",
       "│ dense_7 (<span style=\"color: #0087ff; text-decoration-color: #0087ff\">Dense</span>)                      │ ?                           │     <span style=\"color: #00af00; text-decoration-color: #00af00\">0</span> (unbuilt) │\n",
       "└──────────────────────────────────────┴─────────────────────────────┴─────────────────┘\n",
       "</pre>\n"
      ],
      "text/plain": [
       "┏━━━━━━━━━━━━━━━━━━━━━━━━━━━━━━━━━━━━━━┳━━━━━━━━━━━━━━━━━━━━━━━━━━━━━┳━━━━━━━━━━━━━━━━━┓\n",
       "┃\u001b[1m \u001b[0m\u001b[1mLayer (type)                        \u001b[0m\u001b[1m \u001b[0m┃\u001b[1m \u001b[0m\u001b[1mOutput Shape               \u001b[0m\u001b[1m \u001b[0m┃\u001b[1m \u001b[0m\u001b[1m        Param #\u001b[0m\u001b[1m \u001b[0m┃\n",
       "┡━━━━━━━━━━━━━━━━━━━━━━━━━━━━━━━━━━━━━━╇━━━━━━━━━━━━━━━━━━━━━━━━━━━━━╇━━━━━━━━━━━━━━━━━┩\n",
       "│ embedding_3 (\u001b[38;5;33mEmbedding\u001b[0m)              │ ?                           │     \u001b[38;5;34m0\u001b[0m (unbuilt) │\n",
       "├──────────────────────────────────────┼─────────────────────────────┼─────────────────┤\n",
       "│ bidirectional_1 (\u001b[38;5;33mBidirectional\u001b[0m)      │ ?                           │     \u001b[38;5;34m0\u001b[0m (unbuilt) │\n",
       "├──────────────────────────────────────┼─────────────────────────────┼─────────────────┤\n",
       "│ dense_6 (\u001b[38;5;33mDense\u001b[0m)                      │ ?                           │     \u001b[38;5;34m0\u001b[0m (unbuilt) │\n",
       "├──────────────────────────────────────┼─────────────────────────────┼─────────────────┤\n",
       "│ dropout_7 (\u001b[38;5;33mDropout\u001b[0m)                  │ ?                           │     \u001b[38;5;34m0\u001b[0m (unbuilt) │\n",
       "├──────────────────────────────────────┼─────────────────────────────┼─────────────────┤\n",
       "│ dense_7 (\u001b[38;5;33mDense\u001b[0m)                      │ ?                           │     \u001b[38;5;34m0\u001b[0m (unbuilt) │\n",
       "└──────────────────────────────────────┴─────────────────────────────┴─────────────────┘\n"
      ]
     },
     "metadata": {},
     "output_type": "display_data"
    },
    {
     "data": {
      "text/html": [
       "<pre style=\"white-space:pre;overflow-x:auto;line-height:normal;font-family:Menlo,'DejaVu Sans Mono',consolas,'Courier New',monospace\"><span style=\"font-weight: bold\"> Total params: </span><span style=\"color: #00af00; text-decoration-color: #00af00\">0</span> (0.00 B)\n",
       "</pre>\n"
      ],
      "text/plain": [
       "\u001b[1m Total params: \u001b[0m\u001b[38;5;34m0\u001b[0m (0.00 B)\n"
      ]
     },
     "metadata": {},
     "output_type": "display_data"
    },
    {
     "data": {
      "text/html": [
       "<pre style=\"white-space:pre;overflow-x:auto;line-height:normal;font-family:Menlo,'DejaVu Sans Mono',consolas,'Courier New',monospace\"><span style=\"font-weight: bold\"> Trainable params: </span><span style=\"color: #00af00; text-decoration-color: #00af00\">0</span> (0.00 B)\n",
       "</pre>\n"
      ],
      "text/plain": [
       "\u001b[1m Trainable params: \u001b[0m\u001b[38;5;34m0\u001b[0m (0.00 B)\n"
      ]
     },
     "metadata": {},
     "output_type": "display_data"
    },
    {
     "data": {
      "text/html": [
       "<pre style=\"white-space:pre;overflow-x:auto;line-height:normal;font-family:Menlo,'DejaVu Sans Mono',consolas,'Courier New',monospace\"><span style=\"font-weight: bold\"> Non-trainable params: </span><span style=\"color: #00af00; text-decoration-color: #00af00\">0</span> (0.00 B)\n",
       "</pre>\n"
      ],
      "text/plain": [
       "\u001b[1m Non-trainable params: \u001b[0m\u001b[38;5;34m0\u001b[0m (0.00 B)\n"
      ]
     },
     "metadata": {},
     "output_type": "display_data"
    },
    {
     "name": "stdout",
     "output_type": "stream",
     "text": [
      "\u001b[1m19/19\u001b[0m \u001b[32m━━━━━━━━━━━━━━━━━━━━\u001b[0m\u001b[37m\u001b[0m \u001b[1m1s\u001b[0m 2ms/step - accuracy: 0.5221 - loss: 0.6933   \n"
     ]
    }
   ],
   "source": [
    "############ training alternate model architecture\n",
    "\n",
    "model2 = Sequential() #simplest layers\n",
    "model2.add(Embedding(vocab_size, embedlen, input_length=fourthroot)) #input layer\n",
    "model2.add(Bidirectional(LSTM(units=64, dropout=0.1,  recurrent_dropout=0.1)))\n",
    "model2.add(Dense(50,activation='relu'))\n",
    "model2.add(Dropout(0.1))\n",
    "model2.add(Dense(2,activation='sigmoid')) \n",
    "model2.compile(optimizer='adam', loss='binary_crossentropy', metrics=['accuracy']) \n",
    "history2 = model.fit(X_train, y_train, validation_data = (X_test, y_test), epochs=20, callbacks=[early_stopping_monitor])\n",
    "model2.summary() #show layers\n",
    "\n",
    "scores = model2.evaluate(X_test, y_test)     "
   ]
  },
  {
   "cell_type": "code",
   "execution_count": 51,
   "id": "8edacd43-b6f9-4361-a1b8-62defac5f1d6",
   "metadata": {},
   "outputs": [
    {
     "name": "stdout",
     "output_type": "stream",
     "text": [
      "Epoch 1/20\n",
      "\u001b[1m75/75\u001b[0m \u001b[32m━━━━━━━━━━━━━━━━━━━━\u001b[0m\u001b[37m\u001b[0m \u001b[1m0s\u001b[0m 3ms/step - accuracy: 0.9874 - loss: 0.0304 - val_accuracy: 0.7517 - val_loss: 0.7410\n",
      "Epoch 2/20\n",
      "\u001b[1m75/75\u001b[0m \u001b[32m━━━━━━━━━━━━━━━━━━━━\u001b[0m\u001b[37m\u001b[0m \u001b[1m0s\u001b[0m 2ms/step - accuracy: 0.9928 - loss: 0.0189 - val_accuracy: 0.7533 - val_loss: 0.7576\n"
     ]
    },
    {
     "data": {
      "text/html": [
       "<pre style=\"white-space:pre;overflow-x:auto;line-height:normal;font-family:Menlo,'DejaVu Sans Mono',consolas,'Courier New',monospace\"><span style=\"font-weight: bold\">Model: \"sequential_6\"</span>\n",
       "</pre>\n"
      ],
      "text/plain": [
       "\u001b[1mModel: \"sequential_6\"\u001b[0m\n"
      ]
     },
     "metadata": {},
     "output_type": "display_data"
    },
    {
     "data": {
      "text/html": [
       "<pre style=\"white-space:pre;overflow-x:auto;line-height:normal;font-family:Menlo,'DejaVu Sans Mono',consolas,'Courier New',monospace\">┏━━━━━━━━━━━━━━━━━━━━━━━━━━━━━━━━━━━━━━┳━━━━━━━━━━━━━━━━━━━━━━━━━━━━━┳━━━━━━━━━━━━━━━━━┓\n",
       "┃<span style=\"font-weight: bold\"> Layer (type)                         </span>┃<span style=\"font-weight: bold\"> Output Shape                </span>┃<span style=\"font-weight: bold\">         Param # </span>┃\n",
       "┡━━━━━━━━━━━━━━━━━━━━━━━━━━━━━━━━━━━━━━╇━━━━━━━━━━━━━━━━━━━━━━━━━━━━━╇━━━━━━━━━━━━━━━━━┩\n",
       "│ embedding_6 (<span style=\"color: #0087ff; text-decoration-color: #0087ff\">Embedding</span>)              │ ?                           │     <span style=\"color: #00af00; text-decoration-color: #00af00\">0</span> (unbuilt) │\n",
       "├──────────────────────────────────────┼─────────────────────────────┼─────────────────┤\n",
       "│ dropout_14 (<span style=\"color: #0087ff; text-decoration-color: #0087ff\">Dropout</span>)                 │ ?                           │     <span style=\"color: #00af00; text-decoration-color: #00af00\">0</span> (unbuilt) │\n",
       "├──────────────────────────────────────┼─────────────────────────────┼─────────────────┤\n",
       "│ flatten_4 (<span style=\"color: #0087ff; text-decoration-color: #0087ff\">Flatten</span>)                  │ ?                           │     <span style=\"color: #00af00; text-decoration-color: #00af00\">0</span> (unbuilt) │\n",
       "├──────────────────────────────────────┼─────────────────────────────┼─────────────────┤\n",
       "│ dropout_15 (<span style=\"color: #0087ff; text-decoration-color: #0087ff\">Dropout</span>)                 │ ?                           │     <span style=\"color: #00af00; text-decoration-color: #00af00\">0</span> (unbuilt) │\n",
       "├──────────────────────────────────────┼─────────────────────────────┼─────────────────┤\n",
       "│ dense_12 (<span style=\"color: #0087ff; text-decoration-color: #0087ff\">Dense</span>)                     │ ?                           │     <span style=\"color: #00af00; text-decoration-color: #00af00\">0</span> (unbuilt) │\n",
       "├──────────────────────────────────────┼─────────────────────────────┼─────────────────┤\n",
       "│ dropout_16 (<span style=\"color: #0087ff; text-decoration-color: #0087ff\">Dropout</span>)                 │ ?                           │     <span style=\"color: #00af00; text-decoration-color: #00af00\">0</span> (unbuilt) │\n",
       "├──────────────────────────────────────┼─────────────────────────────┼─────────────────┤\n",
       "│ dense_13 (<span style=\"color: #0087ff; text-decoration-color: #0087ff\">Dense</span>)                     │ ?                           │     <span style=\"color: #00af00; text-decoration-color: #00af00\">0</span> (unbuilt) │\n",
       "└──────────────────────────────────────┴─────────────────────────────┴─────────────────┘\n",
       "</pre>\n"
      ],
      "text/plain": [
       "┏━━━━━━━━━━━━━━━━━━━━━━━━━━━━━━━━━━━━━━┳━━━━━━━━━━━━━━━━━━━━━━━━━━━━━┳━━━━━━━━━━━━━━━━━┓\n",
       "┃\u001b[1m \u001b[0m\u001b[1mLayer (type)                        \u001b[0m\u001b[1m \u001b[0m┃\u001b[1m \u001b[0m\u001b[1mOutput Shape               \u001b[0m\u001b[1m \u001b[0m┃\u001b[1m \u001b[0m\u001b[1m        Param #\u001b[0m\u001b[1m \u001b[0m┃\n",
       "┡━━━━━━━━━━━━━━━━━━━━━━━━━━━━━━━━━━━━━━╇━━━━━━━━━━━━━━━━━━━━━━━━━━━━━╇━━━━━━━━━━━━━━━━━┩\n",
       "│ embedding_6 (\u001b[38;5;33mEmbedding\u001b[0m)              │ ?                           │     \u001b[38;5;34m0\u001b[0m (unbuilt) │\n",
       "├──────────────────────────────────────┼─────────────────────────────┼─────────────────┤\n",
       "│ dropout_14 (\u001b[38;5;33mDropout\u001b[0m)                 │ ?                           │     \u001b[38;5;34m0\u001b[0m (unbuilt) │\n",
       "├──────────────────────────────────────┼─────────────────────────────┼─────────────────┤\n",
       "│ flatten_4 (\u001b[38;5;33mFlatten\u001b[0m)                  │ ?                           │     \u001b[38;5;34m0\u001b[0m (unbuilt) │\n",
       "├──────────────────────────────────────┼─────────────────────────────┼─────────────────┤\n",
       "│ dropout_15 (\u001b[38;5;33mDropout\u001b[0m)                 │ ?                           │     \u001b[38;5;34m0\u001b[0m (unbuilt) │\n",
       "├──────────────────────────────────────┼─────────────────────────────┼─────────────────┤\n",
       "│ dense_12 (\u001b[38;5;33mDense\u001b[0m)                     │ ?                           │     \u001b[38;5;34m0\u001b[0m (unbuilt) │\n",
       "├──────────────────────────────────────┼─────────────────────────────┼─────────────────┤\n",
       "│ dropout_16 (\u001b[38;5;33mDropout\u001b[0m)                 │ ?                           │     \u001b[38;5;34m0\u001b[0m (unbuilt) │\n",
       "├──────────────────────────────────────┼─────────────────────────────┼─────────────────┤\n",
       "│ dense_13 (\u001b[38;5;33mDense\u001b[0m)                     │ ?                           │     \u001b[38;5;34m0\u001b[0m (unbuilt) │\n",
       "└──────────────────────────────────────┴─────────────────────────────┴─────────────────┘\n"
      ]
     },
     "metadata": {},
     "output_type": "display_data"
    },
    {
     "data": {
      "text/html": [
       "<pre style=\"white-space:pre;overflow-x:auto;line-height:normal;font-family:Menlo,'DejaVu Sans Mono',consolas,'Courier New',monospace\"><span style=\"font-weight: bold\"> Total params: </span><span style=\"color: #00af00; text-decoration-color: #00af00\">0</span> (0.00 B)\n",
       "</pre>\n"
      ],
      "text/plain": [
       "\u001b[1m Total params: \u001b[0m\u001b[38;5;34m0\u001b[0m (0.00 B)\n"
      ]
     },
     "metadata": {},
     "output_type": "display_data"
    },
    {
     "data": {
      "text/html": [
       "<pre style=\"white-space:pre;overflow-x:auto;line-height:normal;font-family:Menlo,'DejaVu Sans Mono',consolas,'Courier New',monospace\"><span style=\"font-weight: bold\"> Trainable params: </span><span style=\"color: #00af00; text-decoration-color: #00af00\">0</span> (0.00 B)\n",
       "</pre>\n"
      ],
      "text/plain": [
       "\u001b[1m Trainable params: \u001b[0m\u001b[38;5;34m0\u001b[0m (0.00 B)\n"
      ]
     },
     "metadata": {},
     "output_type": "display_data"
    },
    {
     "data": {
      "text/html": [
       "<pre style=\"white-space:pre;overflow-x:auto;line-height:normal;font-family:Menlo,'DejaVu Sans Mono',consolas,'Courier New',monospace\"><span style=\"font-weight: bold\"> Non-trainable params: </span><span style=\"color: #00af00; text-decoration-color: #00af00\">0</span> (0.00 B)\n",
       "</pre>\n"
      ],
      "text/plain": [
       "\u001b[1m Non-trainable params: \u001b[0m\u001b[38;5;34m0\u001b[0m (0.00 B)\n"
      ]
     },
     "metadata": {},
     "output_type": "display_data"
    },
    {
     "name": "stdout",
     "output_type": "stream",
     "text": [
      "\u001b[1m19/19\u001b[0m \u001b[32m━━━━━━━━━━━━━━━━━━━━\u001b[0m\u001b[37m\u001b[0m \u001b[1m0s\u001b[0m 701us/step - accuracy: 0.4788 - loss: 0.6939\n"
     ]
    }
   ],
   "source": [
    "from tensorflow.keras.models import Sequential\n",
    "from tensorflow.keras.layers import Dense, Embedding, Bidirectional, LSTM, Dropout, Flatten \n",
    "\n",
    "embedlen = 150\n",
    "\n",
    "### model 3\n",
    "model3 = Sequential() #simplest layers\n",
    "model3.add(Embedding(vocab_size, embedlen, input_length=8)) #input layer\n",
    "model3.add(Dropout(0.5))\n",
    "model3.add(Flatten())\n",
    "model3.add(Dropout(0.3))\n",
    "model3.add(Dense(50,activation='relu'))\n",
    "model3.add(Dropout(0.1))\n",
    "model3.add(Dense(2,activation='sigmoid')) #output layer 2 nodes: positive or negative sigmoid over softmax because prediction is binary\n",
    "model3.compile(optimizer='adam', loss='binary_crossentropy', metrics=['accuracy']) #compile with adam to automatically adjust learning rate #compile with binary crossentropy loss function for binary categorical prediction #show accuracy of weights during each epoch\n",
    "history3 = model.fit(X_train, y_train, validation_data = (X_test, y_test), epochs=20, callbacks=[early_stopping_monitor])\n",
    "model3.summary() #show layers\n",
    "\n",
    "scores = model3.evaluate(X_test, y_test)"
   ]
  },
  {
   "cell_type": "markdown",
   "id": "ba2dd3a6-5b4f-4466-8e32-72479fe730f1",
   "metadata": {},
   "source": [
    "## Plotting\n",
    "- Create a visualization that plots the accuracy at each epoch for the validation/testing and training set \n",
    "- Epochs will represent the x-axis\n",
    "- Accuracy will represent the y-axis"
   ]
  },
  {
   "cell_type": "code",
   "execution_count": 42,
   "id": "991da0a9-645b-4212-bc79-d8093049b7d7",
   "metadata": {},
   "outputs": [],
   "source": [
    "#plot - setup variables\n",
    "epochs = range(1, len(history.history['accuracy']) + 1)\n",
    "acc = history.history['accuracy']\n",
    "val_acc = history.history['val_accuracy']\n",
    "loss = history.history['loss']\n",
    "val_loss = history.history['val_loss']"
   ]
  },
  {
   "cell_type": "code",
   "execution_count": 43,
   "id": "1f219eb2-bb12-4517-9974-362f2726c3a9",
   "metadata": {},
   "outputs": [
    {
     "data": {
      "image/png": "[encoded data removed]",
      "text/plain": [
       "<Figure size 640x480 with 1 Axes>"
      ]
     },
     "metadata": {},
     "output_type": "display_data"
    }
   ],
   "source": [
    "import matplotlib.pyplot as plt\n",
    "#plot accuracy\n",
    "plt.plot(epochs, acc, 'b', label='Training acc')\n",
    "plt.plot(epochs, val_acc, 'r', label='Test acc')\n",
    "plt.title('Training and Test Accuracy')\n",
    "plt.xlabel('Epochs')\n",
    "plt.ylabel('Accuracy')\n",
    "plt.legend(loc='lower right')\n",
    "plt.show()"
   ]
  },
  {
   "cell_type": "markdown",
   "id": "2488127c-5864-40a6-a1a4-8b29d31b6d87",
   "metadata": {},
   "source": [
    "**Based on the plot above, we can see that the model is overfitting since the training accuracy is increasing towards .9, while the test accuracy reaches a little over .7 but plateaus.**"
   ]
  },
  {
   "cell_type": "code",
   "execution_count": 44,
   "id": "7cfcce0d-52a1-49af-8942-9fb7967d3690",
   "metadata": {},
   "outputs": [
    {
     "data": {
      "image/png": "[encoded data removed]",
      "text/plain": [
       "<Figure size 640x480 with 1 Axes>"
      ]
     },
     "metadata": {},
     "output_type": "display_data"
    }
   ],
   "source": [
    "#plot loss\n",
    "plt.plot(epochs, loss, 'b', label='Training loss')\n",
    "# r is for \"solid red line\"\n",
    "plt.plot(epochs, val_loss, 'r', label='Test loss')\n",
    "plt.title('Training and Test Loss')\n",
    "plt.xlabel('Epochs')\n",
    "plt.ylabel('Loss')\n",
    "plt.legend()\n",
    "plt.show()"
   ]
  },
  {
   "cell_type": "markdown",
   "id": "b751a5d5-4571-4da3-803d-e7e156ad465f",
   "metadata": {},
   "source": [
    "**Similar conclusion with the loss graph, we can see that there is overfitting because the training model shows loss decreasing signficantly as the epochs increase, however, the test loss decreases slightly, but then starts to increase again.**"
   ]
  },
  {
   "cell_type": "code",
   "execution_count": 45,
   "id": "33465da4-9394-4fd6-be64-dc97dc8dad22",
   "metadata": {},
   "outputs": [
    {
     "name": "stdout",
     "output_type": "stream",
     "text": [
      "\u001b[1m19/19\u001b[0m \u001b[32m━━━━━━━━━━━━━━━━━━━━\u001b[0m\u001b[37m\u001b[0m \u001b[1m0s\u001b[0m 2ms/step \n"
     ]
    }
   ],
   "source": [
    "#predict with test set\n",
    "#predictions = model.predict(X_test)\n",
    "predictions = (model.predict(X_test) > 0.5).astype(\"int32\")\n",
    "\n",
    "positive_predictions = predictions[:,1] \n",
    "positive_labels = y_test[:,1] "
   ]
  },
  {
   "cell_type": "markdown",
   "id": "09c3bfa5-44c6-4d4e-a52c-896392ae68a9",
   "metadata": {},
   "source": [
    "**Lastly, looking at the classification report and the confusion matrix, we notice that the accuracy is 76% for the test set but the false negative and false positive values should be lower.**\n",
    "- This could be due to the sample size being so small, introducing bias in the results"
   ]
  },
  {
   "cell_type": "code",
   "execution_count": 46,
   "id": "5b481849-4c3e-461e-b2ed-f7ed612daab2",
   "metadata": {},
   "outputs": [
    {
     "name": "stdout",
     "output_type": "stream",
     "text": [
      "              precision    recall  f1-score   support\n",
      "\n",
      "         0.0       0.73      0.80      0.77       300\n",
      "         1.0       0.78      0.71      0.74       300\n",
      "\n",
      "    accuracy                           0.76       600\n",
      "   macro avg       0.76      0.76      0.75       600\n",
      "weighted avg       0.76      0.76      0.75       600\n",
      "\n"
     ]
    }
   ],
   "source": [
    "from sklearn.metrics import classification_report #other performance metrics\n",
    "print(classification_report(positive_labels, positive_predictions))\n"
   ]
  },
  {
   "cell_type": "code",
   "execution_count": 47,
   "id": "a8d427c2-6a58-4168-b56a-4b22cab5470e",
   "metadata": {},
   "outputs": [
    {
     "name": "stdout",
     "output_type": "stream",
     "text": [
      "[[241  59]\n",
      " [ 88 212]]\n"
     ]
    }
   ],
   "source": [
    "from sklearn.metrics import confusion_matrix #prediction comparison\n",
    "print(confusion_matrix(positive_labels, positive_predictions))\n"
   ]
  },
  {
   "cell_type": "markdown",
   "id": "8145d56b-65f0-4727-91b1-e0c2a6458a24",
   "metadata": {},
   "source": [
    "## Results:\n",
    "- Overall, the model is not bad with roughly a 75% accuracy but knowing that it is overfitting, in the future, the model could improve by adding more complex layers.\n",
    "- A key takeaway from using neural networks is that it can be more time consuming than other models because of how complex it is with all the layers.\n",
    "     - It can take a while experimenting with different drop out values, types of layers, types of optimizers, etc... to figure out which combination gives you the best results\n",
    "- Even though the model was overfit, it is still better than a coin flip, and so it can still help the business in predicting sentiments of reviews.\n",
    "\n",
    "\n",
    "## Recommendations to the Company:\n",
    "- Gather more reviews to help improve the model and get more accurate results\n",
    "- Ensure the labels are accurate in the text files "
   ]
  },
  {
   "cell_type": "code",
   "execution_count": null,
   "id": "1a4476fa-9a39-49ec-a998-9487c4ae2a9f",
   "metadata": {},
   "outputs": [],
   "source": []
  }
 ],
 "metadata": {
  "kernelspec": {
   "display_name": "Python 3 (ipykernel)",
   "language": "python",
   "name": "python3"
  },
  "language_info": {
   "codemirror_mode": {
    "name": "ipython",
    "version": 3
   },
   "file_extension": ".py",
   "mimetype": "text/x-python",
   "name": "python",
   "nbconvert_exporter": "python",
   "pygments_lexer": "ipython3",
   "version": "3.12.3"
  }
 },
 "nbformat": 4,
 "nbformat_minor": 5
}
